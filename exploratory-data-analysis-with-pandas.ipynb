{
 "cells": [
  {
   "cell_type": "code",
   "execution_count": 1,
   "id": "4a0d335f",
   "metadata": {
    "_cell_guid": "b1076dfc-b9ad-4769-8c92-a6c4dae69d19",
    "_uuid": "8f2839f25d086af736a60e9eeb907d3b93b6e0e5",
    "execution": {
     "iopub.execute_input": "2022-05-03T15:13:12.837792Z",
     "iopub.status.busy": "2022-05-03T15:13:12.837423Z",
     "iopub.status.idle": "2022-05-03T15:13:14.042340Z",
     "shell.execute_reply": "2022-05-03T15:13:14.041581Z"
    },
    "papermill": {
     "duration": 1.252301,
     "end_time": "2022-05-03T15:13:14.044818",
     "exception": false,
     "start_time": "2022-05-03T15:13:12.792517",
     "status": "completed"
    },
    "tags": []
   },
   "outputs": [],
   "source": [
    "import numpy as np\n",
    "import pandas as pd\n",
    "\n",
    "pd.set_option(\"display.max.columns\", 100)\n",
    "# to draw pictures in jupyter notebook\n",
    "%matplotlib inline\n",
    "# we don't like warnings\n",
    "# you can comment the following 2 lines if you'd like to\n",
    "import warnings\n",
    "\n",
    "import matplotlib.pyplot as plt\n",
    "import seaborn as sns\n",
    "\n",
    "warnings.filterwarnings(\"ignore\")"
   ]
  },
  {
   "cell_type": "code",
   "execution_count": 2,
   "id": "4d53aadf",
   "metadata": {
    "execution": {
     "iopub.execute_input": "2022-05-03T15:13:14.130500Z",
     "iopub.status.busy": "2022-05-03T15:13:14.129535Z",
     "iopub.status.idle": "2022-05-03T15:13:14.134232Z",
     "shell.execute_reply": "2022-05-03T15:13:14.133672Z"
    },
    "papermill": {
     "duration": 0.049234,
     "end_time": "2022-05-03T15:13:14.136159",
     "exception": false,
     "start_time": "2022-05-03T15:13:14.086925",
     "status": "completed"
    },
    "tags": []
   },
   "outputs": [],
   "source": [
    "# for Jupyter-book, we copy data from GitHub, locally, to save Internet traffic,\n",
    "# you can specify the data/ folder from the root of your cloned\n",
    "# https://github.com/Yorko/mlcourse.ai repo, to save Internet traffic\n",
    "DATA_URL = \"https://raw.githubusercontent.com/Yorko/mlcourse.ai/master/data/\""
   ]
  },
  {
   "cell_type": "code",
   "execution_count": 3,
   "id": "d476ac54",
   "metadata": {
    "execution": {
     "iopub.execute_input": "2022-05-03T15:13:14.221210Z",
     "iopub.status.busy": "2022-05-03T15:13:14.220278Z",
     "iopub.status.idle": "2022-05-03T15:13:14.732413Z",
     "shell.execute_reply": "2022-05-03T15:13:14.731621Z"
    },
    "papermill": {
     "duration": 0.558228,
     "end_time": "2022-05-03T15:13:14.735889",
     "exception": false,
     "start_time": "2022-05-03T15:13:14.177661",
     "status": "completed"
    },
    "tags": []
   },
   "outputs": [
    {
     "data": {
      "text/html": [
       "<div>\n",
       "<style scoped>\n",
       "    .dataframe tbody tr th:only-of-type {\n",
       "        vertical-align: middle;\n",
       "    }\n",
       "\n",
       "    .dataframe tbody tr th {\n",
       "        vertical-align: top;\n",
       "    }\n",
       "\n",
       "    .dataframe thead th {\n",
       "        text-align: right;\n",
       "    }\n",
       "</style>\n",
       "<table border=\"1\" class=\"dataframe\">\n",
       "  <thead>\n",
       "    <tr style=\"text-align: right;\">\n",
       "      <th></th>\n",
       "      <th>age</th>\n",
       "      <th>workclass</th>\n",
       "      <th>fnlwgt</th>\n",
       "      <th>education</th>\n",
       "      <th>education-num</th>\n",
       "      <th>marital-status</th>\n",
       "      <th>occupation</th>\n",
       "      <th>relationship</th>\n",
       "      <th>race</th>\n",
       "      <th>sex</th>\n",
       "      <th>capital-gain</th>\n",
       "      <th>capital-loss</th>\n",
       "      <th>hours-per-week</th>\n",
       "      <th>native-country</th>\n",
       "      <th>salary</th>\n",
       "    </tr>\n",
       "  </thead>\n",
       "  <tbody>\n",
       "    <tr>\n",
       "      <th>0</th>\n",
       "      <td>39</td>\n",
       "      <td>State-gov</td>\n",
       "      <td>77516</td>\n",
       "      <td>Bachelors</td>\n",
       "      <td>13</td>\n",
       "      <td>Never-married</td>\n",
       "      <td>Adm-clerical</td>\n",
       "      <td>Not-in-family</td>\n",
       "      <td>White</td>\n",
       "      <td>Male</td>\n",
       "      <td>2174</td>\n",
       "      <td>0</td>\n",
       "      <td>40</td>\n",
       "      <td>United-States</td>\n",
       "      <td>&lt;=50K</td>\n",
       "    </tr>\n",
       "    <tr>\n",
       "      <th>1</th>\n",
       "      <td>50</td>\n",
       "      <td>Self-emp-not-inc</td>\n",
       "      <td>83311</td>\n",
       "      <td>Bachelors</td>\n",
       "      <td>13</td>\n",
       "      <td>Married-civ-spouse</td>\n",
       "      <td>Exec-managerial</td>\n",
       "      <td>Husband</td>\n",
       "      <td>White</td>\n",
       "      <td>Male</td>\n",
       "      <td>0</td>\n",
       "      <td>0</td>\n",
       "      <td>13</td>\n",
       "      <td>United-States</td>\n",
       "      <td>&lt;=50K</td>\n",
       "    </tr>\n",
       "    <tr>\n",
       "      <th>2</th>\n",
       "      <td>38</td>\n",
       "      <td>Private</td>\n",
       "      <td>215646</td>\n",
       "      <td>HS-grad</td>\n",
       "      <td>9</td>\n",
       "      <td>Divorced</td>\n",
       "      <td>Handlers-cleaners</td>\n",
       "      <td>Not-in-family</td>\n",
       "      <td>White</td>\n",
       "      <td>Male</td>\n",
       "      <td>0</td>\n",
       "      <td>0</td>\n",
       "      <td>40</td>\n",
       "      <td>United-States</td>\n",
       "      <td>&lt;=50K</td>\n",
       "    </tr>\n",
       "    <tr>\n",
       "      <th>3</th>\n",
       "      <td>53</td>\n",
       "      <td>Private</td>\n",
       "      <td>234721</td>\n",
       "      <td>11th</td>\n",
       "      <td>7</td>\n",
       "      <td>Married-civ-spouse</td>\n",
       "      <td>Handlers-cleaners</td>\n",
       "      <td>Husband</td>\n",
       "      <td>Black</td>\n",
       "      <td>Male</td>\n",
       "      <td>0</td>\n",
       "      <td>0</td>\n",
       "      <td>40</td>\n",
       "      <td>United-States</td>\n",
       "      <td>&lt;=50K</td>\n",
       "    </tr>\n",
       "    <tr>\n",
       "      <th>4</th>\n",
       "      <td>28</td>\n",
       "      <td>Private</td>\n",
       "      <td>338409</td>\n",
       "      <td>Bachelors</td>\n",
       "      <td>13</td>\n",
       "      <td>Married-civ-spouse</td>\n",
       "      <td>Prof-specialty</td>\n",
       "      <td>Wife</td>\n",
       "      <td>Black</td>\n",
       "      <td>Female</td>\n",
       "      <td>0</td>\n",
       "      <td>0</td>\n",
       "      <td>40</td>\n",
       "      <td>Cuba</td>\n",
       "      <td>&lt;=50K</td>\n",
       "    </tr>\n",
       "  </tbody>\n",
       "</table>\n",
       "</div>"
      ],
      "text/plain": [
       "   age         workclass  fnlwgt  education  education-num  \\\n",
       "0   39         State-gov   77516  Bachelors             13   \n",
       "1   50  Self-emp-not-inc   83311  Bachelors             13   \n",
       "2   38           Private  215646    HS-grad              9   \n",
       "3   53           Private  234721       11th              7   \n",
       "4   28           Private  338409  Bachelors             13   \n",
       "\n",
       "       marital-status         occupation   relationship   race     sex  \\\n",
       "0       Never-married       Adm-clerical  Not-in-family  White    Male   \n",
       "1  Married-civ-spouse    Exec-managerial        Husband  White    Male   \n",
       "2            Divorced  Handlers-cleaners  Not-in-family  White    Male   \n",
       "3  Married-civ-spouse  Handlers-cleaners        Husband  Black    Male   \n",
       "4  Married-civ-spouse     Prof-specialty           Wife  Black  Female   \n",
       "\n",
       "   capital-gain  capital-loss  hours-per-week native-country salary  \n",
       "0          2174             0              40  United-States  <=50K  \n",
       "1             0             0              13  United-States  <=50K  \n",
       "2             0             0              40  United-States  <=50K  \n",
       "3             0             0              40  United-States  <=50K  \n",
       "4             0             0              40           Cuba  <=50K  "
      ]
     },
     "execution_count": 3,
     "metadata": {},
     "output_type": "execute_result"
    }
   ],
   "source": [
    "data = pd.read_csv(DATA_URL + \"adult.data.csv\")\n",
    "data.head()"
   ]
  },
  {
   "cell_type": "code",
   "execution_count": 4,
   "id": "d947275d",
   "metadata": {
    "execution": {
     "iopub.execute_input": "2022-05-03T15:13:14.827281Z",
     "iopub.status.busy": "2022-05-03T15:13:14.826679Z",
     "iopub.status.idle": "2022-05-03T15:13:14.830576Z",
     "shell.execute_reply": "2022-05-03T15:13:14.829887Z"
    },
    "papermill": {
     "duration": 0.051242,
     "end_time": "2022-05-03T15:13:14.832638",
     "exception": false,
     "start_time": "2022-05-03T15:13:14.781396",
     "status": "completed"
    },
    "tags": []
   },
   "outputs": [],
   "source": [
    "#How many men and women (sex feature) are represented in this dataset?"
   ]
  },
  {
   "cell_type": "code",
   "execution_count": 5,
   "id": "cc58cc2e",
   "metadata": {
    "execution": {
     "iopub.execute_input": "2022-05-03T15:13:14.921417Z",
     "iopub.status.busy": "2022-05-03T15:13:14.921145Z",
     "iopub.status.idle": "2022-05-03T15:13:14.935304Z",
     "shell.execute_reply": "2022-05-03T15:13:14.934525Z"
    },
    "papermill": {
     "duration": 0.060603,
     "end_time": "2022-05-03T15:13:14.937292",
     "exception": false,
     "start_time": "2022-05-03T15:13:14.876689",
     "status": "completed"
    },
    "tags": []
   },
   "outputs": [
    {
     "data": {
      "text/plain": [
       "2"
      ]
     },
     "execution_count": 5,
     "metadata": {},
     "output_type": "execute_result"
    }
   ],
   "source": [
    "data['sex'].nunique()"
   ]
  },
  {
   "cell_type": "code",
   "execution_count": 6,
   "id": "b77f0411",
   "metadata": {
    "execution": {
     "iopub.execute_input": "2022-05-03T15:13:15.027265Z",
     "iopub.status.busy": "2022-05-03T15:13:15.026762Z",
     "iopub.status.idle": "2022-05-03T15:13:15.038069Z",
     "shell.execute_reply": "2022-05-03T15:13:15.037528Z"
    },
    "papermill": {
     "duration": 0.059878,
     "end_time": "2022-05-03T15:13:15.039913",
     "exception": false,
     "start_time": "2022-05-03T15:13:14.980035",
     "status": "completed"
    },
    "tags": []
   },
   "outputs": [
    {
     "data": {
      "text/plain": [
       "Male      21790\n",
       "Female    10771\n",
       "Name: sex, dtype: int64"
      ]
     },
     "execution_count": 6,
     "metadata": {},
     "output_type": "execute_result"
    }
   ],
   "source": [
    "data['sex'].value_counts()"
   ]
  },
  {
   "cell_type": "code",
   "execution_count": 7,
   "id": "83e4fc59",
   "metadata": {
    "execution": {
     "iopub.execute_input": "2022-05-03T15:13:15.128576Z",
     "iopub.status.busy": "2022-05-03T15:13:15.128288Z",
     "iopub.status.idle": "2022-05-03T15:13:15.132062Z",
     "shell.execute_reply": "2022-05-03T15:13:15.131164Z"
    },
    "papermill": {
     "duration": 0.050388,
     "end_time": "2022-05-03T15:13:15.134076",
     "exception": false,
     "start_time": "2022-05-03T15:13:15.083688",
     "status": "completed"
    },
    "tags": []
   },
   "outputs": [],
   "source": [
    "#What is the average age (age feature) of women?"
   ]
  },
  {
   "cell_type": "code",
   "execution_count": 8,
   "id": "484bed81",
   "metadata": {
    "execution": {
     "iopub.execute_input": "2022-05-03T15:13:15.223011Z",
     "iopub.status.busy": "2022-05-03T15:13:15.222525Z",
     "iopub.status.idle": "2022-05-03T15:13:15.236911Z",
     "shell.execute_reply": "2022-05-03T15:13:15.236368Z"
    },
    "papermill": {
     "duration": 0.061079,
     "end_time": "2022-05-03T15:13:15.238665",
     "exception": false,
     "start_time": "2022-05-03T15:13:15.177586",
     "status": "completed"
    },
    "tags": []
   },
   "outputs": [
    {
     "data": {
      "text/plain": [
       "36.85823043357163"
      ]
     },
     "execution_count": 8,
     "metadata": {},
     "output_type": "execute_result"
    }
   ],
   "source": [
    "data[data['sex'] == 'Female']['age'].mean()"
   ]
  },
  {
   "cell_type": "code",
   "execution_count": 9,
   "id": "c94b91f7",
   "metadata": {
    "execution": {
     "iopub.execute_input": "2022-05-03T15:13:15.327840Z",
     "iopub.status.busy": "2022-05-03T15:13:15.326988Z",
     "iopub.status.idle": "2022-05-03T15:13:15.339939Z",
     "shell.execute_reply": "2022-05-03T15:13:15.339134Z"
    },
    "papermill": {
     "duration": 0.059886,
     "end_time": "2022-05-03T15:13:15.342027",
     "exception": false,
     "start_time": "2022-05-03T15:13:15.282141",
     "status": "completed"
    },
    "tags": []
   },
   "outputs": [
    {
     "data": {
      "text/plain": [
       "sex\n",
       "Female    36.858230\n",
       "Male      39.433547\n",
       "Name: age, dtype: float64"
      ]
     },
     "execution_count": 9,
     "metadata": {},
     "output_type": "execute_result"
    }
   ],
   "source": [
    "data.groupby(by='sex')['age'].mean()"
   ]
  },
  {
   "cell_type": "code",
   "execution_count": 10,
   "id": "fc64a8d9",
   "metadata": {
    "execution": {
     "iopub.execute_input": "2022-05-03T15:13:15.431509Z",
     "iopub.status.busy": "2022-05-03T15:13:15.431251Z",
     "iopub.status.idle": "2022-05-03T15:13:15.434287Z",
     "shell.execute_reply": "2022-05-03T15:13:15.433724Z"
    },
    "papermill": {
     "duration": 0.049714,
     "end_time": "2022-05-03T15:13:15.436057",
     "exception": false,
     "start_time": "2022-05-03T15:13:15.386343",
     "status": "completed"
    },
    "tags": []
   },
   "outputs": [],
   "source": [
    "#What is the percentage of German citizens (native-country feature)?"
   ]
  },
  {
   "cell_type": "code",
   "execution_count": 11,
   "id": "45b1ef27",
   "metadata": {
    "execution": {
     "iopub.execute_input": "2022-05-03T15:13:15.525700Z",
     "iopub.status.busy": "2022-05-03T15:13:15.525435Z",
     "iopub.status.idle": "2022-05-03T15:13:15.536532Z",
     "shell.execute_reply": "2022-05-03T15:13:15.535821Z"
    },
    "papermill": {
     "duration": 0.058273,
     "end_time": "2022-05-03T15:13:15.538367",
     "exception": false,
     "start_time": "2022-05-03T15:13:15.480094",
     "status": "completed"
    },
    "tags": []
   },
   "outputs": [
    {
     "data": {
      "text/plain": [
       "0.004207487485028101"
      ]
     },
     "execution_count": 11,
     "metadata": {},
     "output_type": "execute_result"
    }
   ],
   "source": [
    "float((data['native-country'] == 'Germany').sum()) / data.shape[0]"
   ]
  },
  {
   "cell_type": "code",
   "execution_count": 12,
   "id": "73363792",
   "metadata": {
    "execution": {
     "iopub.execute_input": "2022-05-03T15:13:15.630713Z",
     "iopub.status.busy": "2022-05-03T15:13:15.630210Z",
     "iopub.status.idle": "2022-05-03T15:13:15.633176Z",
     "shell.execute_reply": "2022-05-03T15:13:15.632643Z"
    },
    "papermill": {
     "duration": 0.051143,
     "end_time": "2022-05-03T15:13:15.634868",
     "exception": false,
     "start_time": "2022-05-03T15:13:15.583725",
     "status": "completed"
    },
    "tags": []
   },
   "outputs": [],
   "source": [
    "#What are the mean and standard deviation of age for those who earn more than 50K per year (salary feature) and those who earn less than 50K per year?"
   ]
  },
  {
   "cell_type": "code",
   "execution_count": 13,
   "id": "a8030512",
   "metadata": {
    "execution": {
     "iopub.execute_input": "2022-05-03T15:13:15.726240Z",
     "iopub.status.busy": "2022-05-03T15:13:15.725707Z",
     "iopub.status.idle": "2022-05-03T15:13:15.736358Z",
     "shell.execute_reply": "2022-05-03T15:13:15.735789Z"
    },
    "papermill": {
     "duration": 0.058349,
     "end_time": "2022-05-03T15:13:15.738302",
     "exception": false,
     "start_time": "2022-05-03T15:13:15.679953",
     "status": "completed"
    },
    "tags": []
   },
   "outputs": [
    {
     "data": {
      "text/plain": [
       "<=50K    24720\n",
       ">50K      7841\n",
       "Name: salary, dtype: int64"
      ]
     },
     "execution_count": 13,
     "metadata": {},
     "output_type": "execute_result"
    }
   ],
   "source": [
    "data['salary'].value_counts()"
   ]
  },
  {
   "cell_type": "code",
   "execution_count": 14,
   "id": "7f31b7ac",
   "metadata": {
    "execution": {
     "iopub.execute_input": "2022-05-03T15:13:15.831333Z",
     "iopub.status.busy": "2022-05-03T15:13:15.830881Z",
     "iopub.status.idle": "2022-05-03T15:13:15.845332Z",
     "shell.execute_reply": "2022-05-03T15:13:15.844763Z"
    },
    "papermill": {
     "duration": 0.063996,
     "end_time": "2022-05-03T15:13:15.847018",
     "exception": false,
     "start_time": "2022-05-03T15:13:15.783022",
     "status": "completed"
    },
    "tags": []
   },
   "outputs": [
    {
     "data": {
      "text/plain": [
       "36.78373786407767"
      ]
     },
     "execution_count": 14,
     "metadata": {},
     "output_type": "execute_result"
    }
   ],
   "source": [
    "data[data['salary'] == '<=50K']['age'].mean()"
   ]
  },
  {
   "cell_type": "code",
   "execution_count": 15,
   "id": "d4a3533f",
   "metadata": {
    "execution": {
     "iopub.execute_input": "2022-05-03T15:13:15.941275Z",
     "iopub.status.busy": "2022-05-03T15:13:15.940982Z",
     "iopub.status.idle": "2022-05-03T15:13:15.956247Z",
     "shell.execute_reply": "2022-05-03T15:13:15.955454Z"
    },
    "papermill": {
     "duration": 0.065699,
     "end_time": "2022-05-03T15:13:15.958143",
     "exception": false,
     "start_time": "2022-05-03T15:13:15.892444",
     "status": "completed"
    },
    "tags": []
   },
   "outputs": [
    {
     "data": {
      "text/plain": [
       "14.02008849082488"
      ]
     },
     "execution_count": 15,
     "metadata": {},
     "output_type": "execute_result"
    }
   ],
   "source": [
    "data[data['salary'] == '<=50K']['age'].std()"
   ]
  },
  {
   "cell_type": "code",
   "execution_count": 16,
   "id": "7914c7f8",
   "metadata": {
    "execution": {
     "iopub.execute_input": "2022-05-03T15:13:16.051141Z",
     "iopub.status.busy": "2022-05-03T15:13:16.050854Z",
     "iopub.status.idle": "2022-05-03T15:13:16.064231Z",
     "shell.execute_reply": "2022-05-03T15:13:16.063447Z"
    },
    "papermill": {
     "duration": 0.062096,
     "end_time": "2022-05-03T15:13:16.066166",
     "exception": false,
     "start_time": "2022-05-03T15:13:16.004070",
     "status": "completed"
    },
    "tags": []
   },
   "outputs": [
    {
     "data": {
      "text/plain": [
       "44.24984058155847"
      ]
     },
     "execution_count": 16,
     "metadata": {},
     "output_type": "execute_result"
    }
   ],
   "source": [
    "data[data['salary'] == '>50K']['age'].mean()"
   ]
  },
  {
   "cell_type": "code",
   "execution_count": 17,
   "id": "2d39ed44",
   "metadata": {
    "execution": {
     "iopub.execute_input": "2022-05-03T15:13:16.162040Z",
     "iopub.status.busy": "2022-05-03T15:13:16.161475Z",
     "iopub.status.idle": "2022-05-03T15:13:16.175317Z",
     "shell.execute_reply": "2022-05-03T15:13:16.174453Z"
    },
    "papermill": {
     "duration": 0.063884,
     "end_time": "2022-05-03T15:13:16.177206",
     "exception": false,
     "start_time": "2022-05-03T15:13:16.113322",
     "status": "completed"
    },
    "tags": []
   },
   "outputs": [
    {
     "data": {
      "text/plain": [
       "10.519027719851826"
      ]
     },
     "execution_count": 17,
     "metadata": {},
     "output_type": "execute_result"
    }
   ],
   "source": [
    "data[data['salary'] == '>50K']['age'].std()"
   ]
  },
  {
   "cell_type": "code",
   "execution_count": 18,
   "id": "287de4d9",
   "metadata": {
    "execution": {
     "iopub.execute_input": "2022-05-03T15:13:16.273698Z",
     "iopub.status.busy": "2022-05-03T15:13:16.273132Z",
     "iopub.status.idle": "2022-05-03T15:13:16.277038Z",
     "shell.execute_reply": "2022-05-03T15:13:16.276411Z"
    },
    "papermill": {
     "duration": 0.05494,
     "end_time": "2022-05-03T15:13:16.278933",
     "exception": false,
     "start_time": "2022-05-03T15:13:16.223993",
     "status": "completed"
    },
    "tags": []
   },
   "outputs": [],
   "source": [
    "# Is it true that people who earn more than 50K have at least high school education? (education – Bachelors, Prof-school, Assoc-acdm, Assoc-voc, Masters or Doctorate feature)"
   ]
  },
  {
   "cell_type": "code",
   "execution_count": 19,
   "id": "c34c8d92",
   "metadata": {
    "execution": {
     "iopub.execute_input": "2022-05-03T15:13:16.373977Z",
     "iopub.status.busy": "2022-05-03T15:13:16.373412Z",
     "iopub.status.idle": "2022-05-03T15:13:16.387801Z",
     "shell.execute_reply": "2022-05-03T15:13:16.386949Z"
    },
    "papermill": {
     "duration": 0.06421,
     "end_time": "2022-05-03T15:13:16.389761",
     "exception": false,
     "start_time": "2022-05-03T15:13:16.325551",
     "status": "completed"
    },
    "tags": []
   },
   "outputs": [
    {
     "data": {
      "text/plain": [
       "array(['HS-grad', 'Masters', 'Bachelors', 'Some-college', 'Assoc-voc',\n",
       "       'Doctorate', 'Prof-school', 'Assoc-acdm', '7th-8th', '12th',\n",
       "       '10th', '11th', '9th', '5th-6th', '1st-4th'], dtype=object)"
      ]
     },
     "execution_count": 19,
     "metadata": {},
     "output_type": "execute_result"
    }
   ],
   "source": [
    "data[data['salary'] == '>50K']['education'].unique()"
   ]
  },
  {
   "cell_type": "code",
   "execution_count": 20,
   "id": "455382bd",
   "metadata": {
    "execution": {
     "iopub.execute_input": "2022-05-03T15:13:16.486586Z",
     "iopub.status.busy": "2022-05-03T15:13:16.486069Z",
     "iopub.status.idle": "2022-05-03T15:13:16.489958Z",
     "shell.execute_reply": "2022-05-03T15:13:16.489302Z"
    },
    "papermill": {
     "duration": 0.054407,
     "end_time": "2022-05-03T15:13:16.491796",
     "exception": false,
     "start_time": "2022-05-03T15:13:16.437389",
     "status": "completed"
    },
    "tags": []
   },
   "outputs": [],
   "source": [
    "# Display age statistics for each race (race feature) and each gender (sex feature). Use groupby() and describe(). Find the maximum age of men of Amer-Indian-Eskimo race."
   ]
  },
  {
   "cell_type": "code",
   "execution_count": 21,
   "id": "4fad4ded",
   "metadata": {
    "execution": {
     "iopub.execute_input": "2022-05-03T15:13:16.587829Z",
     "iopub.status.busy": "2022-05-03T15:13:16.587520Z",
     "iopub.status.idle": "2022-05-03T15:13:16.656568Z",
     "shell.execute_reply": "2022-05-03T15:13:16.655661Z"
    },
    "papermill": {
     "duration": 0.119174,
     "end_time": "2022-05-03T15:13:16.658462",
     "exception": false,
     "start_time": "2022-05-03T15:13:16.539288",
     "status": "completed"
    },
    "tags": []
   },
   "outputs": [
    {
     "data": {
      "text/html": [
       "<div>\n",
       "<style scoped>\n",
       "    .dataframe tbody tr th:only-of-type {\n",
       "        vertical-align: middle;\n",
       "    }\n",
       "\n",
       "    .dataframe tbody tr th {\n",
       "        vertical-align: top;\n",
       "    }\n",
       "\n",
       "    .dataframe thead th {\n",
       "        text-align: right;\n",
       "    }\n",
       "</style>\n",
       "<table border=\"1\" class=\"dataframe\">\n",
       "  <thead>\n",
       "    <tr style=\"text-align: right;\">\n",
       "      <th>age</th>\n",
       "      <th>17</th>\n",
       "      <th>18</th>\n",
       "      <th>19</th>\n",
       "      <th>20</th>\n",
       "      <th>21</th>\n",
       "      <th>22</th>\n",
       "      <th>23</th>\n",
       "      <th>24</th>\n",
       "      <th>25</th>\n",
       "      <th>26</th>\n",
       "      <th>27</th>\n",
       "      <th>28</th>\n",
       "      <th>29</th>\n",
       "      <th>30</th>\n",
       "      <th>31</th>\n",
       "      <th>32</th>\n",
       "      <th>33</th>\n",
       "      <th>34</th>\n",
       "      <th>35</th>\n",
       "      <th>36</th>\n",
       "      <th>37</th>\n",
       "      <th>38</th>\n",
       "      <th>39</th>\n",
       "      <th>40</th>\n",
       "      <th>41</th>\n",
       "      <th>42</th>\n",
       "      <th>43</th>\n",
       "      <th>44</th>\n",
       "      <th>45</th>\n",
       "      <th>46</th>\n",
       "      <th>47</th>\n",
       "      <th>48</th>\n",
       "      <th>49</th>\n",
       "      <th>50</th>\n",
       "      <th>51</th>\n",
       "      <th>52</th>\n",
       "      <th>53</th>\n",
       "      <th>54</th>\n",
       "      <th>55</th>\n",
       "      <th>56</th>\n",
       "      <th>57</th>\n",
       "      <th>58</th>\n",
       "      <th>59</th>\n",
       "      <th>60</th>\n",
       "      <th>61</th>\n",
       "      <th>62</th>\n",
       "      <th>63</th>\n",
       "      <th>64</th>\n",
       "      <th>65</th>\n",
       "      <th>66</th>\n",
       "      <th>67</th>\n",
       "      <th>68</th>\n",
       "      <th>69</th>\n",
       "      <th>70</th>\n",
       "      <th>71</th>\n",
       "      <th>72</th>\n",
       "      <th>73</th>\n",
       "      <th>74</th>\n",
       "      <th>75</th>\n",
       "      <th>76</th>\n",
       "      <th>77</th>\n",
       "      <th>78</th>\n",
       "      <th>79</th>\n",
       "      <th>80</th>\n",
       "      <th>81</th>\n",
       "      <th>82</th>\n",
       "      <th>83</th>\n",
       "      <th>84</th>\n",
       "      <th>85</th>\n",
       "      <th>86</th>\n",
       "      <th>87</th>\n",
       "      <th>88</th>\n",
       "      <th>90</th>\n",
       "    </tr>\n",
       "    <tr>\n",
       "      <th>race</th>\n",
       "      <th></th>\n",
       "      <th></th>\n",
       "      <th></th>\n",
       "      <th></th>\n",
       "      <th></th>\n",
       "      <th></th>\n",
       "      <th></th>\n",
       "      <th></th>\n",
       "      <th></th>\n",
       "      <th></th>\n",
       "      <th></th>\n",
       "      <th></th>\n",
       "      <th></th>\n",
       "      <th></th>\n",
       "      <th></th>\n",
       "      <th></th>\n",
       "      <th></th>\n",
       "      <th></th>\n",
       "      <th></th>\n",
       "      <th></th>\n",
       "      <th></th>\n",
       "      <th></th>\n",
       "      <th></th>\n",
       "      <th></th>\n",
       "      <th></th>\n",
       "      <th></th>\n",
       "      <th></th>\n",
       "      <th></th>\n",
       "      <th></th>\n",
       "      <th></th>\n",
       "      <th></th>\n",
       "      <th></th>\n",
       "      <th></th>\n",
       "      <th></th>\n",
       "      <th></th>\n",
       "      <th></th>\n",
       "      <th></th>\n",
       "      <th></th>\n",
       "      <th></th>\n",
       "      <th></th>\n",
       "      <th></th>\n",
       "      <th></th>\n",
       "      <th></th>\n",
       "      <th></th>\n",
       "      <th></th>\n",
       "      <th></th>\n",
       "      <th></th>\n",
       "      <th></th>\n",
       "      <th></th>\n",
       "      <th></th>\n",
       "      <th></th>\n",
       "      <th></th>\n",
       "      <th></th>\n",
       "      <th></th>\n",
       "      <th></th>\n",
       "      <th></th>\n",
       "      <th></th>\n",
       "      <th></th>\n",
       "      <th></th>\n",
       "      <th></th>\n",
       "      <th></th>\n",
       "      <th></th>\n",
       "      <th></th>\n",
       "      <th></th>\n",
       "      <th></th>\n",
       "      <th></th>\n",
       "      <th></th>\n",
       "      <th></th>\n",
       "      <th></th>\n",
       "      <th></th>\n",
       "      <th></th>\n",
       "      <th></th>\n",
       "      <th></th>\n",
       "    </tr>\n",
       "  </thead>\n",
       "  <tbody>\n",
       "    <tr>\n",
       "      <th>Amer-Indian-Eskimo</th>\n",
       "      <td>3</td>\n",
       "      <td>4</td>\n",
       "      <td>6</td>\n",
       "      <td>3</td>\n",
       "      <td>6</td>\n",
       "      <td>9</td>\n",
       "      <td>13</td>\n",
       "      <td>6</td>\n",
       "      <td>9</td>\n",
       "      <td>3</td>\n",
       "      <td>11</td>\n",
       "      <td>14</td>\n",
       "      <td>11</td>\n",
       "      <td>10</td>\n",
       "      <td>16</td>\n",
       "      <td>7</td>\n",
       "      <td>7</td>\n",
       "      <td>8</td>\n",
       "      <td>16</td>\n",
       "      <td>5</td>\n",
       "      <td>7</td>\n",
       "      <td>6</td>\n",
       "      <td>7</td>\n",
       "      <td>11</td>\n",
       "      <td>5</td>\n",
       "      <td>13</td>\n",
       "      <td>8</td>\n",
       "      <td>4</td>\n",
       "      <td>5</td>\n",
       "      <td>13</td>\n",
       "      <td>8</td>\n",
       "      <td>2</td>\n",
       "      <td>2</td>\n",
       "      <td>4</td>\n",
       "      <td>10</td>\n",
       "      <td>2</td>\n",
       "      <td>5</td>\n",
       "      <td>0</td>\n",
       "      <td>3</td>\n",
       "      <td>3</td>\n",
       "      <td>3</td>\n",
       "      <td>3</td>\n",
       "      <td>2</td>\n",
       "      <td>6</td>\n",
       "      <td>1</td>\n",
       "      <td>1</td>\n",
       "      <td>2</td>\n",
       "      <td>0</td>\n",
       "      <td>1</td>\n",
       "      <td>0</td>\n",
       "      <td>1</td>\n",
       "      <td>2</td>\n",
       "      <td>0</td>\n",
       "      <td>0</td>\n",
       "      <td>1</td>\n",
       "      <td>0</td>\n",
       "      <td>0</td>\n",
       "      <td>1</td>\n",
       "      <td>0</td>\n",
       "      <td>0</td>\n",
       "      <td>0</td>\n",
       "      <td>0</td>\n",
       "      <td>0</td>\n",
       "      <td>1</td>\n",
       "      <td>0</td>\n",
       "      <td>1</td>\n",
       "      <td>0</td>\n",
       "      <td>0</td>\n",
       "      <td>0</td>\n",
       "      <td>0</td>\n",
       "      <td>0</td>\n",
       "      <td>0</td>\n",
       "      <td>0</td>\n",
       "    </tr>\n",
       "    <tr>\n",
       "      <th>Asian-Pac-Islander</th>\n",
       "      <td>2</td>\n",
       "      <td>11</td>\n",
       "      <td>15</td>\n",
       "      <td>20</td>\n",
       "      <td>16</td>\n",
       "      <td>27</td>\n",
       "      <td>40</td>\n",
       "      <td>36</td>\n",
       "      <td>23</td>\n",
       "      <td>32</td>\n",
       "      <td>37</td>\n",
       "      <td>22</td>\n",
       "      <td>33</td>\n",
       "      <td>38</td>\n",
       "      <td>31</td>\n",
       "      <td>28</td>\n",
       "      <td>30</td>\n",
       "      <td>29</td>\n",
       "      <td>40</td>\n",
       "      <td>33</td>\n",
       "      <td>29</td>\n",
       "      <td>23</td>\n",
       "      <td>34</td>\n",
       "      <td>19</td>\n",
       "      <td>26</td>\n",
       "      <td>22</td>\n",
       "      <td>26</td>\n",
       "      <td>25</td>\n",
       "      <td>39</td>\n",
       "      <td>18</td>\n",
       "      <td>16</td>\n",
       "      <td>21</td>\n",
       "      <td>15</td>\n",
       "      <td>22</td>\n",
       "      <td>9</td>\n",
       "      <td>13</td>\n",
       "      <td>12</td>\n",
       "      <td>16</td>\n",
       "      <td>13</td>\n",
       "      <td>7</td>\n",
       "      <td>13</td>\n",
       "      <td>6</td>\n",
       "      <td>7</td>\n",
       "      <td>8</td>\n",
       "      <td>8</td>\n",
       "      <td>5</td>\n",
       "      <td>7</td>\n",
       "      <td>5</td>\n",
       "      <td>5</td>\n",
       "      <td>3</td>\n",
       "      <td>2</td>\n",
       "      <td>0</td>\n",
       "      <td>1</td>\n",
       "      <td>3</td>\n",
       "      <td>1</td>\n",
       "      <td>3</td>\n",
       "      <td>4</td>\n",
       "      <td>0</td>\n",
       "      <td>3</td>\n",
       "      <td>0</td>\n",
       "      <td>0</td>\n",
       "      <td>2</td>\n",
       "      <td>0</td>\n",
       "      <td>0</td>\n",
       "      <td>0</td>\n",
       "      <td>0</td>\n",
       "      <td>0</td>\n",
       "      <td>0</td>\n",
       "      <td>0</td>\n",
       "      <td>0</td>\n",
       "      <td>0</td>\n",
       "      <td>0</td>\n",
       "      <td>5</td>\n",
       "    </tr>\n",
       "    <tr>\n",
       "      <th>Black</th>\n",
       "      <td>34</td>\n",
       "      <td>46</td>\n",
       "      <td>56</td>\n",
       "      <td>63</td>\n",
       "      <td>65</td>\n",
       "      <td>76</td>\n",
       "      <td>87</td>\n",
       "      <td>85</td>\n",
       "      <td>91</td>\n",
       "      <td>85</td>\n",
       "      <td>84</td>\n",
       "      <td>102</td>\n",
       "      <td>84</td>\n",
       "      <td>87</td>\n",
       "      <td>84</td>\n",
       "      <td>79</td>\n",
       "      <td>105</td>\n",
       "      <td>94</td>\n",
       "      <td>83</td>\n",
       "      <td>90</td>\n",
       "      <td>79</td>\n",
       "      <td>85</td>\n",
       "      <td>81</td>\n",
       "      <td>73</td>\n",
       "      <td>86</td>\n",
       "      <td>80</td>\n",
       "      <td>79</td>\n",
       "      <td>80</td>\n",
       "      <td>72</td>\n",
       "      <td>70</td>\n",
       "      <td>77</td>\n",
       "      <td>45</td>\n",
       "      <td>50</td>\n",
       "      <td>51</td>\n",
       "      <td>59</td>\n",
       "      <td>38</td>\n",
       "      <td>53</td>\n",
       "      <td>32</td>\n",
       "      <td>38</td>\n",
       "      <td>36</td>\n",
       "      <td>33</td>\n",
       "      <td>33</td>\n",
       "      <td>24</td>\n",
       "      <td>23</td>\n",
       "      <td>31</td>\n",
       "      <td>24</td>\n",
       "      <td>16</td>\n",
       "      <td>7</td>\n",
       "      <td>8</td>\n",
       "      <td>20</td>\n",
       "      <td>13</td>\n",
       "      <td>8</td>\n",
       "      <td>6</td>\n",
       "      <td>3</td>\n",
       "      <td>4</td>\n",
       "      <td>4</td>\n",
       "      <td>0</td>\n",
       "      <td>6</td>\n",
       "      <td>5</td>\n",
       "      <td>2</td>\n",
       "      <td>2</td>\n",
       "      <td>1</td>\n",
       "      <td>1</td>\n",
       "      <td>0</td>\n",
       "      <td>1</td>\n",
       "      <td>0</td>\n",
       "      <td>0</td>\n",
       "      <td>1</td>\n",
       "      <td>0</td>\n",
       "      <td>0</td>\n",
       "      <td>0</td>\n",
       "      <td>0</td>\n",
       "      <td>4</td>\n",
       "    </tr>\n",
       "    <tr>\n",
       "      <th>Other</th>\n",
       "      <td>7</td>\n",
       "      <td>6</td>\n",
       "      <td>5</td>\n",
       "      <td>14</td>\n",
       "      <td>6</td>\n",
       "      <td>5</td>\n",
       "      <td>8</td>\n",
       "      <td>9</td>\n",
       "      <td>11</td>\n",
       "      <td>17</td>\n",
       "      <td>10</td>\n",
       "      <td>14</td>\n",
       "      <td>15</td>\n",
       "      <td>5</td>\n",
       "      <td>10</td>\n",
       "      <td>11</td>\n",
       "      <td>13</td>\n",
       "      <td>3</td>\n",
       "      <td>4</td>\n",
       "      <td>7</td>\n",
       "      <td>5</td>\n",
       "      <td>4</td>\n",
       "      <td>4</td>\n",
       "      <td>6</td>\n",
       "      <td>7</td>\n",
       "      <td>4</td>\n",
       "      <td>7</td>\n",
       "      <td>8</td>\n",
       "      <td>4</td>\n",
       "      <td>4</td>\n",
       "      <td>4</td>\n",
       "      <td>2</td>\n",
       "      <td>2</td>\n",
       "      <td>3</td>\n",
       "      <td>2</td>\n",
       "      <td>5</td>\n",
       "      <td>6</td>\n",
       "      <td>0</td>\n",
       "      <td>1</td>\n",
       "      <td>1</td>\n",
       "      <td>3</td>\n",
       "      <td>2</td>\n",
       "      <td>0</td>\n",
       "      <td>2</td>\n",
       "      <td>0</td>\n",
       "      <td>0</td>\n",
       "      <td>1</td>\n",
       "      <td>0</td>\n",
       "      <td>1</td>\n",
       "      <td>1</td>\n",
       "      <td>0</td>\n",
       "      <td>0</td>\n",
       "      <td>0</td>\n",
       "      <td>0</td>\n",
       "      <td>0</td>\n",
       "      <td>0</td>\n",
       "      <td>0</td>\n",
       "      <td>1</td>\n",
       "      <td>0</td>\n",
       "      <td>0</td>\n",
       "      <td>1</td>\n",
       "      <td>0</td>\n",
       "      <td>0</td>\n",
       "      <td>0</td>\n",
       "      <td>0</td>\n",
       "      <td>0</td>\n",
       "      <td>0</td>\n",
       "      <td>0</td>\n",
       "      <td>0</td>\n",
       "      <td>0</td>\n",
       "      <td>0</td>\n",
       "      <td>0</td>\n",
       "      <td>0</td>\n",
       "    </tr>\n",
       "    <tr>\n",
       "      <th>White</th>\n",
       "      <td>349</td>\n",
       "      <td>483</td>\n",
       "      <td>630</td>\n",
       "      <td>653</td>\n",
       "      <td>627</td>\n",
       "      <td>648</td>\n",
       "      <td>729</td>\n",
       "      <td>662</td>\n",
       "      <td>707</td>\n",
       "      <td>648</td>\n",
       "      <td>693</td>\n",
       "      <td>715</td>\n",
       "      <td>670</td>\n",
       "      <td>721</td>\n",
       "      <td>747</td>\n",
       "      <td>703</td>\n",
       "      <td>720</td>\n",
       "      <td>752</td>\n",
       "      <td>733</td>\n",
       "      <td>763</td>\n",
       "      <td>738</td>\n",
       "      <td>709</td>\n",
       "      <td>690</td>\n",
       "      <td>685</td>\n",
       "      <td>684</td>\n",
       "      <td>661</td>\n",
       "      <td>650</td>\n",
       "      <td>607</td>\n",
       "      <td>614</td>\n",
       "      <td>632</td>\n",
       "      <td>603</td>\n",
       "      <td>473</td>\n",
       "      <td>508</td>\n",
       "      <td>522</td>\n",
       "      <td>515</td>\n",
       "      <td>420</td>\n",
       "      <td>388</td>\n",
       "      <td>367</td>\n",
       "      <td>364</td>\n",
       "      <td>319</td>\n",
       "      <td>306</td>\n",
       "      <td>322</td>\n",
       "      <td>322</td>\n",
       "      <td>273</td>\n",
       "      <td>260</td>\n",
       "      <td>228</td>\n",
       "      <td>204</td>\n",
       "      <td>196</td>\n",
       "      <td>163</td>\n",
       "      <td>126</td>\n",
       "      <td>135</td>\n",
       "      <td>110</td>\n",
       "      <td>101</td>\n",
       "      <td>83</td>\n",
       "      <td>66</td>\n",
       "      <td>60</td>\n",
       "      <td>60</td>\n",
       "      <td>43</td>\n",
       "      <td>37</td>\n",
       "      <td>44</td>\n",
       "      <td>26</td>\n",
       "      <td>20</td>\n",
       "      <td>21</td>\n",
       "      <td>21</td>\n",
       "      <td>19</td>\n",
       "      <td>11</td>\n",
       "      <td>6</td>\n",
       "      <td>9</td>\n",
       "      <td>3</td>\n",
       "      <td>1</td>\n",
       "      <td>1</td>\n",
       "      <td>3</td>\n",
       "      <td>34</td>\n",
       "    </tr>\n",
       "  </tbody>\n",
       "</table>\n",
       "</div>"
      ],
      "text/plain": [
       "age                  17   18   19   20   21   22   23   24   25   26   27  \\\n",
       "race                                                                        \n",
       "Amer-Indian-Eskimo    3    4    6    3    6    9   13    6    9    3   11   \n",
       "Asian-Pac-Islander    2   11   15   20   16   27   40   36   23   32   37   \n",
       "Black                34   46   56   63   65   76   87   85   91   85   84   \n",
       "Other                 7    6    5   14    6    5    8    9   11   17   10   \n",
       "White               349  483  630  653  627  648  729  662  707  648  693   \n",
       "\n",
       "age                  28   29   30   31   32   33   34   35   36   37   38  \\\n",
       "race                                                                        \n",
       "Amer-Indian-Eskimo   14   11   10   16    7    7    8   16    5    7    6   \n",
       "Asian-Pac-Islander   22   33   38   31   28   30   29   40   33   29   23   \n",
       "Black               102   84   87   84   79  105   94   83   90   79   85   \n",
       "Other                14   15    5   10   11   13    3    4    7    5    4   \n",
       "White               715  670  721  747  703  720  752  733  763  738  709   \n",
       "\n",
       "age                  39   40   41   42   43   44   45   46   47   48   49  \\\n",
       "race                                                                        \n",
       "Amer-Indian-Eskimo    7   11    5   13    8    4    5   13    8    2    2   \n",
       "Asian-Pac-Islander   34   19   26   22   26   25   39   18   16   21   15   \n",
       "Black                81   73   86   80   79   80   72   70   77   45   50   \n",
       "Other                 4    6    7    4    7    8    4    4    4    2    2   \n",
       "White               690  685  684  661  650  607  614  632  603  473  508   \n",
       "\n",
       "age                  50   51   52   53   54   55   56   57   58   59   60  \\\n",
       "race                                                                        \n",
       "Amer-Indian-Eskimo    4   10    2    5    0    3    3    3    3    2    6   \n",
       "Asian-Pac-Islander   22    9   13   12   16   13    7   13    6    7    8   \n",
       "Black                51   59   38   53   32   38   36   33   33   24   23   \n",
       "Other                 3    2    5    6    0    1    1    3    2    0    2   \n",
       "White               522  515  420  388  367  364  319  306  322  322  273   \n",
       "\n",
       "age                  61   62   63   64   65   66   67   68   69  70  71  72  \\\n",
       "race                                                                          \n",
       "Amer-Indian-Eskimo    1    1    2    0    1    0    1    2    0   0   1   0   \n",
       "Asian-Pac-Islander    8    5    7    5    5    3    2    0    1   3   1   3   \n",
       "Black                31   24   16    7    8   20   13    8    6   3   4   4   \n",
       "Other                 0    0    1    0    1    1    0    0    0   0   0   0   \n",
       "White               260  228  204  196  163  126  135  110  101  83  66  60   \n",
       "\n",
       "age                 73  74  75  76  77  78  79  80  81  82  83  84  85  86  \\\n",
       "race                                                                         \n",
       "Amer-Indian-Eskimo   0   1   0   0   0   0   0   1   0   1   0   0   0   0   \n",
       "Asian-Pac-Islander   4   0   3   0   0   2   0   0   0   0   0   0   0   0   \n",
       "Black                0   6   5   2   2   1   1   0   1   0   0   1   0   0   \n",
       "Other                0   1   0   0   1   0   0   0   0   0   0   0   0   0   \n",
       "White               60  43  37  44  26  20  21  21  19  11   6   9   3   1   \n",
       "\n",
       "age                 87  88  90  \n",
       "race                            \n",
       "Amer-Indian-Eskimo   0   0   0  \n",
       "Asian-Pac-Islander   0   0   5  \n",
       "Black                0   0   4  \n",
       "Other                0   0   0  \n",
       "White                1   3  34  "
      ]
     },
     "execution_count": 21,
     "metadata": {},
     "output_type": "execute_result"
    }
   ],
   "source": [
    "pd.crosstab(data['race'],data['age'])"
   ]
  },
  {
   "cell_type": "code",
   "execution_count": 22,
   "id": "a513a05f",
   "metadata": {
    "execution": {
     "iopub.execute_input": "2022-05-03T15:13:16.757414Z",
     "iopub.status.busy": "2022-05-03T15:13:16.756728Z",
     "iopub.status.idle": "2022-05-03T15:13:16.789733Z",
     "shell.execute_reply": "2022-05-03T15:13:16.788906Z"
    },
    "papermill": {
     "duration": 0.084918,
     "end_time": "2022-05-03T15:13:16.792046",
     "exception": false,
     "start_time": "2022-05-03T15:13:16.707128",
     "status": "completed"
    },
    "tags": []
   },
   "outputs": [
    {
     "data": {
      "text/html": [
       "<div>\n",
       "<style scoped>\n",
       "    .dataframe tbody tr th:only-of-type {\n",
       "        vertical-align: middle;\n",
       "    }\n",
       "\n",
       "    .dataframe tbody tr th {\n",
       "        vertical-align: top;\n",
       "    }\n",
       "\n",
       "    .dataframe thead th {\n",
       "        text-align: right;\n",
       "    }\n",
       "</style>\n",
       "<table border=\"1\" class=\"dataframe\">\n",
       "  <thead>\n",
       "    <tr style=\"text-align: right;\">\n",
       "      <th></th>\n",
       "      <th>count</th>\n",
       "      <th>mean</th>\n",
       "      <th>std</th>\n",
       "      <th>min</th>\n",
       "      <th>25%</th>\n",
       "      <th>50%</th>\n",
       "      <th>75%</th>\n",
       "      <th>max</th>\n",
       "    </tr>\n",
       "    <tr>\n",
       "      <th>race</th>\n",
       "      <th></th>\n",
       "      <th></th>\n",
       "      <th></th>\n",
       "      <th></th>\n",
       "      <th></th>\n",
       "      <th></th>\n",
       "      <th></th>\n",
       "      <th></th>\n",
       "    </tr>\n",
       "  </thead>\n",
       "  <tbody>\n",
       "    <tr>\n",
       "      <th>Amer-Indian-Eskimo</th>\n",
       "      <td>311.0</td>\n",
       "      <td>37.173633</td>\n",
       "      <td>12.447130</td>\n",
       "      <td>17.0</td>\n",
       "      <td>28.0</td>\n",
       "      <td>35.0</td>\n",
       "      <td>45.5</td>\n",
       "      <td>82.0</td>\n",
       "    </tr>\n",
       "    <tr>\n",
       "      <th>Asian-Pac-Islander</th>\n",
       "      <td>1039.0</td>\n",
       "      <td>37.746872</td>\n",
       "      <td>12.825133</td>\n",
       "      <td>17.0</td>\n",
       "      <td>28.0</td>\n",
       "      <td>36.0</td>\n",
       "      <td>45.0</td>\n",
       "      <td>90.0</td>\n",
       "    </tr>\n",
       "    <tr>\n",
       "      <th>Black</th>\n",
       "      <td>3124.0</td>\n",
       "      <td>37.767926</td>\n",
       "      <td>12.759290</td>\n",
       "      <td>17.0</td>\n",
       "      <td>28.0</td>\n",
       "      <td>36.0</td>\n",
       "      <td>46.0</td>\n",
       "      <td>90.0</td>\n",
       "    </tr>\n",
       "    <tr>\n",
       "      <th>Other</th>\n",
       "      <td>271.0</td>\n",
       "      <td>33.457565</td>\n",
       "      <td>11.538865</td>\n",
       "      <td>17.0</td>\n",
       "      <td>25.0</td>\n",
       "      <td>31.0</td>\n",
       "      <td>41.0</td>\n",
       "      <td>77.0</td>\n",
       "    </tr>\n",
       "    <tr>\n",
       "      <th>White</th>\n",
       "      <td>27816.0</td>\n",
       "      <td>38.769881</td>\n",
       "      <td>13.782306</td>\n",
       "      <td>17.0</td>\n",
       "      <td>28.0</td>\n",
       "      <td>37.0</td>\n",
       "      <td>48.0</td>\n",
       "      <td>90.0</td>\n",
       "    </tr>\n",
       "  </tbody>\n",
       "</table>\n",
       "</div>"
      ],
      "text/plain": [
       "                      count       mean        std   min   25%   50%   75%  \\\n",
       "race                                                                        \n",
       "Amer-Indian-Eskimo    311.0  37.173633  12.447130  17.0  28.0  35.0  45.5   \n",
       "Asian-Pac-Islander   1039.0  37.746872  12.825133  17.0  28.0  36.0  45.0   \n",
       "Black                3124.0  37.767926  12.759290  17.0  28.0  36.0  46.0   \n",
       "Other                 271.0  33.457565  11.538865  17.0  25.0  31.0  41.0   \n",
       "White               27816.0  38.769881  13.782306  17.0  28.0  37.0  48.0   \n",
       "\n",
       "                     max  \n",
       "race                      \n",
       "Amer-Indian-Eskimo  82.0  \n",
       "Asian-Pac-Islander  90.0  \n",
       "Black               90.0  \n",
       "Other               77.0  \n",
       "White               90.0  "
      ]
     },
     "execution_count": 22,
     "metadata": {},
     "output_type": "execute_result"
    }
   ],
   "source": [
    "data.groupby(by='race')['age'].describe()"
   ]
  },
  {
   "cell_type": "code",
   "execution_count": 23,
   "id": "2e2e90ac",
   "metadata": {
    "execution": {
     "iopub.execute_input": "2022-05-03T15:13:16.892572Z",
     "iopub.status.busy": "2022-05-03T15:13:16.892320Z",
     "iopub.status.idle": "2022-05-03T15:13:16.916190Z",
     "shell.execute_reply": "2022-05-03T15:13:16.915644Z"
    },
    "papermill": {
     "duration": 0.075848,
     "end_time": "2022-05-03T15:13:16.918099",
     "exception": false,
     "start_time": "2022-05-03T15:13:16.842251",
     "status": "completed"
    },
    "tags": []
   },
   "outputs": [
    {
     "data": {
      "text/html": [
       "<div>\n",
       "<style scoped>\n",
       "    .dataframe tbody tr th:only-of-type {\n",
       "        vertical-align: middle;\n",
       "    }\n",
       "\n",
       "    .dataframe tbody tr th {\n",
       "        vertical-align: top;\n",
       "    }\n",
       "\n",
       "    .dataframe thead th {\n",
       "        text-align: right;\n",
       "    }\n",
       "</style>\n",
       "<table border=\"1\" class=\"dataframe\">\n",
       "  <thead>\n",
       "    <tr style=\"text-align: right;\">\n",
       "      <th></th>\n",
       "      <th>count</th>\n",
       "      <th>mean</th>\n",
       "      <th>std</th>\n",
       "      <th>min</th>\n",
       "      <th>25%</th>\n",
       "      <th>50%</th>\n",
       "      <th>75%</th>\n",
       "      <th>max</th>\n",
       "    </tr>\n",
       "    <tr>\n",
       "      <th>sex</th>\n",
       "      <th></th>\n",
       "      <th></th>\n",
       "      <th></th>\n",
       "      <th></th>\n",
       "      <th></th>\n",
       "      <th></th>\n",
       "      <th></th>\n",
       "      <th></th>\n",
       "    </tr>\n",
       "  </thead>\n",
       "  <tbody>\n",
       "    <tr>\n",
       "      <th>Female</th>\n",
       "      <td>10771.0</td>\n",
       "      <td>36.858230</td>\n",
       "      <td>14.013697</td>\n",
       "      <td>17.0</td>\n",
       "      <td>25.0</td>\n",
       "      <td>35.0</td>\n",
       "      <td>46.0</td>\n",
       "      <td>90.0</td>\n",
       "    </tr>\n",
       "    <tr>\n",
       "      <th>Male</th>\n",
       "      <td>21790.0</td>\n",
       "      <td>39.433547</td>\n",
       "      <td>13.370630</td>\n",
       "      <td>17.0</td>\n",
       "      <td>29.0</td>\n",
       "      <td>38.0</td>\n",
       "      <td>48.0</td>\n",
       "      <td>90.0</td>\n",
       "    </tr>\n",
       "  </tbody>\n",
       "</table>\n",
       "</div>"
      ],
      "text/plain": [
       "          count       mean        std   min   25%   50%   75%   max\n",
       "sex                                                                \n",
       "Female  10771.0  36.858230  14.013697  17.0  25.0  35.0  46.0  90.0\n",
       "Male    21790.0  39.433547  13.370630  17.0  29.0  38.0  48.0  90.0"
      ]
     },
     "execution_count": 23,
     "metadata": {},
     "output_type": "execute_result"
    }
   ],
   "source": [
    "data.groupby(by='sex')['age'].describe()"
   ]
  },
  {
   "cell_type": "code",
   "execution_count": 24,
   "id": "5ba4d255",
   "metadata": {
    "execution": {
     "iopub.execute_input": "2022-05-03T15:13:17.019745Z",
     "iopub.status.busy": "2022-05-03T15:13:17.019250Z",
     "iopub.status.idle": "2022-05-03T15:13:17.032454Z",
     "shell.execute_reply": "2022-05-03T15:13:17.031648Z"
    },
    "papermill": {
     "duration": 0.066031,
     "end_time": "2022-05-03T15:13:17.034386",
     "exception": false,
     "start_time": "2022-05-03T15:13:16.968355",
     "status": "completed"
    },
    "tags": []
   },
   "outputs": [
    {
     "data": {
      "text/plain": [
       "90"
      ]
     },
     "execution_count": 24,
     "metadata": {},
     "output_type": "execute_result"
    }
   ],
   "source": [
    "data.groupby(by='sex')['age'].max().loc['Male']"
   ]
  },
  {
   "cell_type": "code",
   "execution_count": 25,
   "id": "505fb938",
   "metadata": {
    "execution": {
     "iopub.execute_input": "2022-05-03T15:13:17.136260Z",
     "iopub.status.busy": "2022-05-03T15:13:17.135249Z",
     "iopub.status.idle": "2022-05-03T15:13:17.139899Z",
     "shell.execute_reply": "2022-05-03T15:13:17.139157Z"
    },
    "papermill": {
     "duration": 0.057657,
     "end_time": "2022-05-03T15:13:17.141848",
     "exception": false,
     "start_time": "2022-05-03T15:13:17.084191",
     "status": "completed"
    },
    "tags": []
   },
   "outputs": [],
   "source": [
    "#Among whom is the proportion of those who earn a lot (>50K) greater: married or single men (marital-status feature)? Consider as married those who have a marital-status starting with Married (Married-civ-spouse, Married-spouse-absent or Married-AF-spouse), the rest are considered bachelors"
   ]
  },
  {
   "cell_type": "code",
   "execution_count": 26,
   "id": "862a7891",
   "metadata": {
    "execution": {
     "iopub.execute_input": "2022-05-03T15:13:17.243858Z",
     "iopub.status.busy": "2022-05-03T15:13:17.243108Z",
     "iopub.status.idle": "2022-05-03T15:13:17.258157Z",
     "shell.execute_reply": "2022-05-03T15:13:17.257610Z"
    },
    "papermill": {
     "duration": 0.067936,
     "end_time": "2022-05-03T15:13:17.259955",
     "exception": false,
     "start_time": "2022-05-03T15:13:17.192019",
     "status": "completed"
    },
    "tags": []
   },
   "outputs": [
    {
     "data": {
      "text/html": [
       "<div>\n",
       "<style scoped>\n",
       "    .dataframe tbody tr th:only-of-type {\n",
       "        vertical-align: middle;\n",
       "    }\n",
       "\n",
       "    .dataframe tbody tr th {\n",
       "        vertical-align: top;\n",
       "    }\n",
       "\n",
       "    .dataframe thead th {\n",
       "        text-align: right;\n",
       "    }\n",
       "</style>\n",
       "<table border=\"1\" class=\"dataframe\">\n",
       "  <thead>\n",
       "    <tr style=\"text-align: right;\">\n",
       "      <th></th>\n",
       "      <th>age</th>\n",
       "      <th>workclass</th>\n",
       "      <th>fnlwgt</th>\n",
       "      <th>education</th>\n",
       "      <th>education-num</th>\n",
       "      <th>marital-status</th>\n",
       "      <th>occupation</th>\n",
       "      <th>relationship</th>\n",
       "      <th>race</th>\n",
       "      <th>sex</th>\n",
       "      <th>capital-gain</th>\n",
       "      <th>capital-loss</th>\n",
       "      <th>hours-per-week</th>\n",
       "      <th>native-country</th>\n",
       "      <th>salary</th>\n",
       "    </tr>\n",
       "  </thead>\n",
       "  <tbody>\n",
       "    <tr>\n",
       "      <th>0</th>\n",
       "      <td>39</td>\n",
       "      <td>State-gov</td>\n",
       "      <td>77516</td>\n",
       "      <td>Bachelors</td>\n",
       "      <td>13</td>\n",
       "      <td>Never-married</td>\n",
       "      <td>Adm-clerical</td>\n",
       "      <td>Not-in-family</td>\n",
       "      <td>White</td>\n",
       "      <td>Male</td>\n",
       "      <td>2174</td>\n",
       "      <td>0</td>\n",
       "      <td>40</td>\n",
       "      <td>United-States</td>\n",
       "      <td>&lt;=50K</td>\n",
       "    </tr>\n",
       "    <tr>\n",
       "      <th>1</th>\n",
       "      <td>50</td>\n",
       "      <td>Self-emp-not-inc</td>\n",
       "      <td>83311</td>\n",
       "      <td>Bachelors</td>\n",
       "      <td>13</td>\n",
       "      <td>Married-civ-spouse</td>\n",
       "      <td>Exec-managerial</td>\n",
       "      <td>Husband</td>\n",
       "      <td>White</td>\n",
       "      <td>Male</td>\n",
       "      <td>0</td>\n",
       "      <td>0</td>\n",
       "      <td>13</td>\n",
       "      <td>United-States</td>\n",
       "      <td>&lt;=50K</td>\n",
       "    </tr>\n",
       "    <tr>\n",
       "      <th>2</th>\n",
       "      <td>38</td>\n",
       "      <td>Private</td>\n",
       "      <td>215646</td>\n",
       "      <td>HS-grad</td>\n",
       "      <td>9</td>\n",
       "      <td>Divorced</td>\n",
       "      <td>Handlers-cleaners</td>\n",
       "      <td>Not-in-family</td>\n",
       "      <td>White</td>\n",
       "      <td>Male</td>\n",
       "      <td>0</td>\n",
       "      <td>0</td>\n",
       "      <td>40</td>\n",
       "      <td>United-States</td>\n",
       "      <td>&lt;=50K</td>\n",
       "    </tr>\n",
       "    <tr>\n",
       "      <th>3</th>\n",
       "      <td>53</td>\n",
       "      <td>Private</td>\n",
       "      <td>234721</td>\n",
       "      <td>11th</td>\n",
       "      <td>7</td>\n",
       "      <td>Married-civ-spouse</td>\n",
       "      <td>Handlers-cleaners</td>\n",
       "      <td>Husband</td>\n",
       "      <td>Black</td>\n",
       "      <td>Male</td>\n",
       "      <td>0</td>\n",
       "      <td>0</td>\n",
       "      <td>40</td>\n",
       "      <td>United-States</td>\n",
       "      <td>&lt;=50K</td>\n",
       "    </tr>\n",
       "    <tr>\n",
       "      <th>4</th>\n",
       "      <td>28</td>\n",
       "      <td>Private</td>\n",
       "      <td>338409</td>\n",
       "      <td>Bachelors</td>\n",
       "      <td>13</td>\n",
       "      <td>Married-civ-spouse</td>\n",
       "      <td>Prof-specialty</td>\n",
       "      <td>Wife</td>\n",
       "      <td>Black</td>\n",
       "      <td>Female</td>\n",
       "      <td>0</td>\n",
       "      <td>0</td>\n",
       "      <td>40</td>\n",
       "      <td>Cuba</td>\n",
       "      <td>&lt;=50K</td>\n",
       "    </tr>\n",
       "  </tbody>\n",
       "</table>\n",
       "</div>"
      ],
      "text/plain": [
       "   age         workclass  fnlwgt  education  education-num  \\\n",
       "0   39         State-gov   77516  Bachelors             13   \n",
       "1   50  Self-emp-not-inc   83311  Bachelors             13   \n",
       "2   38           Private  215646    HS-grad              9   \n",
       "3   53           Private  234721       11th              7   \n",
       "4   28           Private  338409  Bachelors             13   \n",
       "\n",
       "       marital-status         occupation   relationship   race     sex  \\\n",
       "0       Never-married       Adm-clerical  Not-in-family  White    Male   \n",
       "1  Married-civ-spouse    Exec-managerial        Husband  White    Male   \n",
       "2            Divorced  Handlers-cleaners  Not-in-family  White    Male   \n",
       "3  Married-civ-spouse  Handlers-cleaners        Husband  Black    Male   \n",
       "4  Married-civ-spouse     Prof-specialty           Wife  Black  Female   \n",
       "\n",
       "   capital-gain  capital-loss  hours-per-week native-country salary  \n",
       "0          2174             0              40  United-States  <=50K  \n",
       "1             0             0              13  United-States  <=50K  \n",
       "2             0             0              40  United-States  <=50K  \n",
       "3             0             0              40  United-States  <=50K  \n",
       "4             0             0              40           Cuba  <=50K  "
      ]
     },
     "execution_count": 26,
     "metadata": {},
     "output_type": "execute_result"
    }
   ],
   "source": [
    "data.head()"
   ]
  },
  {
   "cell_type": "code",
   "execution_count": 27,
   "id": "94687237",
   "metadata": {
    "execution": {
     "iopub.execute_input": "2022-05-03T15:13:17.364659Z",
     "iopub.status.busy": "2022-05-03T15:13:17.364260Z",
     "iopub.status.idle": "2022-05-03T15:13:17.374009Z",
     "shell.execute_reply": "2022-05-03T15:13:17.373493Z"
    },
    "papermill": {
     "duration": 0.06472,
     "end_time": "2022-05-03T15:13:17.375702",
     "exception": false,
     "start_time": "2022-05-03T15:13:17.310982",
     "status": "completed"
    },
    "tags": []
   },
   "outputs": [
    {
     "data": {
      "text/plain": [
       "Married-civ-spouse       14976\n",
       "Never-married            10683\n",
       "Divorced                  4443\n",
       "Separated                 1025\n",
       "Widowed                    993\n",
       "Married-spouse-absent      418\n",
       "Married-AF-spouse           23\n",
       "Name: marital-status, dtype: int64"
      ]
     },
     "execution_count": 27,
     "metadata": {},
     "output_type": "execute_result"
    }
   ],
   "source": [
    "data['marital-status'].value_counts()"
   ]
  },
  {
   "cell_type": "code",
   "execution_count": 28,
   "id": "12bd7366",
   "metadata": {
    "execution": {
     "iopub.execute_input": "2022-05-03T15:13:17.479849Z",
     "iopub.status.busy": "2022-05-03T15:13:17.479361Z",
     "iopub.status.idle": "2022-05-03T15:13:17.492947Z",
     "shell.execute_reply": "2022-05-03T15:13:17.492157Z"
    },
    "papermill": {
     "duration": 0.068259,
     "end_time": "2022-05-03T15:13:17.494975",
     "exception": false,
     "start_time": "2022-05-03T15:13:17.426716",
     "status": "completed"
    },
    "tags": []
   },
   "outputs": [],
   "source": [
    "data['marital-status'] = data['marital-status'].replace(['Married-civ-spouse','Married-spouse-absent','Married-AF-spouse'],'Married')"
   ]
  },
  {
   "cell_type": "code",
   "execution_count": 29,
   "id": "7440b2b0",
   "metadata": {
    "execution": {
     "iopub.execute_input": "2022-05-03T15:13:17.600260Z",
     "iopub.status.busy": "2022-05-03T15:13:17.599811Z",
     "iopub.status.idle": "2022-05-03T15:13:17.610066Z",
     "shell.execute_reply": "2022-05-03T15:13:17.609506Z"
    },
    "papermill": {
     "duration": 0.064672,
     "end_time": "2022-05-03T15:13:17.611822",
     "exception": false,
     "start_time": "2022-05-03T15:13:17.547150",
     "status": "completed"
    },
    "tags": []
   },
   "outputs": [
    {
     "data": {
      "text/plain": [
       "Married          15417\n",
       "Never-married    10683\n",
       "Divorced          4443\n",
       "Separated         1025\n",
       "Widowed            993\n",
       "Name: marital-status, dtype: int64"
      ]
     },
     "execution_count": 29,
     "metadata": {},
     "output_type": "execute_result"
    }
   ],
   "source": [
    "data[\"marital-status\"].value_counts()"
   ]
  },
  {
   "cell_type": "code",
   "execution_count": 30,
   "id": "0ca20280",
   "metadata": {
    "execution": {
     "iopub.execute_input": "2022-05-03T15:13:17.716814Z",
     "iopub.status.busy": "2022-05-03T15:13:17.716409Z",
     "iopub.status.idle": "2022-05-03T15:13:17.742273Z",
     "shell.execute_reply": "2022-05-03T15:13:17.741687Z"
    },
    "papermill": {
     "duration": 0.080703,
     "end_time": "2022-05-03T15:13:17.744185",
     "exception": false,
     "start_time": "2022-05-03T15:13:17.663482",
     "status": "completed"
    },
    "tags": []
   },
   "outputs": [
    {
     "data": {
      "text/html": [
       "<div>\n",
       "<style scoped>\n",
       "    .dataframe tbody tr th:only-of-type {\n",
       "        vertical-align: middle;\n",
       "    }\n",
       "\n",
       "    .dataframe tbody tr th {\n",
       "        vertical-align: top;\n",
       "    }\n",
       "\n",
       "    .dataframe thead th {\n",
       "        text-align: right;\n",
       "    }\n",
       "</style>\n",
       "<table border=\"1\" class=\"dataframe\">\n",
       "  <thead>\n",
       "    <tr style=\"text-align: right;\">\n",
       "      <th>salary</th>\n",
       "      <th>&lt;=50K</th>\n",
       "      <th>&gt;50K</th>\n",
       "    </tr>\n",
       "    <tr>\n",
       "      <th>marital-status</th>\n",
       "      <th></th>\n",
       "      <th></th>\n",
       "    </tr>\n",
       "  </thead>\n",
       "  <tbody>\n",
       "    <tr>\n",
       "      <th>Divorced</th>\n",
       "      <td>3980</td>\n",
       "      <td>463</td>\n",
       "    </tr>\n",
       "    <tr>\n",
       "      <th>Married</th>\n",
       "      <td>8681</td>\n",
       "      <td>6736</td>\n",
       "    </tr>\n",
       "    <tr>\n",
       "      <th>Never-married</th>\n",
       "      <td>10192</td>\n",
       "      <td>491</td>\n",
       "    </tr>\n",
       "    <tr>\n",
       "      <th>Separated</th>\n",
       "      <td>959</td>\n",
       "      <td>66</td>\n",
       "    </tr>\n",
       "    <tr>\n",
       "      <th>Widowed</th>\n",
       "      <td>908</td>\n",
       "      <td>85</td>\n",
       "    </tr>\n",
       "  </tbody>\n",
       "</table>\n",
       "</div>"
      ],
      "text/plain": [
       "salary          <=50K  >50K\n",
       "marital-status             \n",
       "Divorced         3980   463\n",
       "Married          8681  6736\n",
       "Never-married   10192   491\n",
       "Separated         959    66\n",
       "Widowed           908    85"
      ]
     },
     "execution_count": 30,
     "metadata": {},
     "output_type": "execute_result"
    }
   ],
   "source": [
    "pd.crosstab(data['marital-status'],data['salary'])"
   ]
  },
  {
   "cell_type": "code",
   "execution_count": 31,
   "id": "74d34e97",
   "metadata": {
    "execution": {
     "iopub.execute_input": "2022-05-03T15:13:17.852822Z",
     "iopub.status.busy": "2022-05-03T15:13:17.852417Z",
     "iopub.status.idle": "2022-05-03T15:13:17.888349Z",
     "shell.execute_reply": "2022-05-03T15:13:17.887536Z"
    },
    "papermill": {
     "duration": 0.092381,
     "end_time": "2022-05-03T15:13:17.890534",
     "exception": false,
     "start_time": "2022-05-03T15:13:17.798153",
     "status": "completed"
    },
    "tags": []
   },
   "outputs": [
    {
     "data": {
      "text/plain": [
       "<=50K    0.559486\n",
       ">50K     0.440514\n",
       "Name: salary, dtype: float64"
      ]
     },
     "execution_count": 31,
     "metadata": {},
     "output_type": "execute_result"
    }
   ],
   "source": [
    "data[(data['sex'] == 'Male') & (data['marital-status'].str.startswith(\"Married\"))]['salary'].value_counts(normalize=True)"
   ]
  },
  {
   "cell_type": "code",
   "execution_count": 32,
   "id": "d340cfb5",
   "metadata": {
    "execution": {
     "iopub.execute_input": "2022-05-03T15:13:17.999764Z",
     "iopub.status.busy": "2022-05-03T15:13:17.999255Z",
     "iopub.status.idle": "2022-05-03T15:13:18.029770Z",
     "shell.execute_reply": "2022-05-03T15:13:18.029168Z"
    },
    "papermill": {
     "duration": 0.087585,
     "end_time": "2022-05-03T15:13:18.031613",
     "exception": false,
     "start_time": "2022-05-03T15:13:17.944028",
     "status": "completed"
    },
    "tags": []
   },
   "outputs": [
    {
     "data": {
      "text/plain": [
       "<=50K    0.915505\n",
       ">50K     0.084495\n",
       "Name: salary, dtype: float64"
      ]
     },
     "execution_count": 32,
     "metadata": {},
     "output_type": "execute_result"
    }
   ],
   "source": [
    "data[(data['sex'] == 'Male') & ~(data['marital-status'].str.startswith(\"Married\"))]['salary'].value_counts(normalize=True)"
   ]
  },
  {
   "cell_type": "code",
   "execution_count": 33,
   "id": "86d5575f",
   "metadata": {
    "execution": {
     "iopub.execute_input": "2022-05-03T15:13:18.141953Z",
     "iopub.status.busy": "2022-05-03T15:13:18.141256Z",
     "iopub.status.idle": "2022-05-03T15:13:18.144444Z",
     "shell.execute_reply": "2022-05-03T15:13:18.143935Z"
    },
    "papermill": {
     "duration": 0.060537,
     "end_time": "2022-05-03T15:13:18.146096",
     "exception": false,
     "start_time": "2022-05-03T15:13:18.085559",
     "status": "completed"
    },
    "tags": []
   },
   "outputs": [],
   "source": [
    "#What is the maximum number of hours a person works per week (hours-per-week feature)? How many people work such a number of hours, and what is the percentage of those who earn a lot (>50K) among them?"
   ]
  },
  {
   "cell_type": "code",
   "execution_count": 34,
   "id": "9afe7776",
   "metadata": {
    "execution": {
     "iopub.execute_input": "2022-05-03T15:13:18.253667Z",
     "iopub.status.busy": "2022-05-03T15:13:18.253333Z",
     "iopub.status.idle": "2022-05-03T15:13:18.270215Z",
     "shell.execute_reply": "2022-05-03T15:13:18.269440Z"
    },
    "papermill": {
     "duration": 0.072937,
     "end_time": "2022-05-03T15:13:18.272156",
     "exception": false,
     "start_time": "2022-05-03T15:13:18.199219",
     "status": "completed"
    },
    "tags": []
   },
   "outputs": [
    {
     "data": {
      "text/html": [
       "<div>\n",
       "<style scoped>\n",
       "    .dataframe tbody tr th:only-of-type {\n",
       "        vertical-align: middle;\n",
       "    }\n",
       "\n",
       "    .dataframe tbody tr th {\n",
       "        vertical-align: top;\n",
       "    }\n",
       "\n",
       "    .dataframe thead th {\n",
       "        text-align: right;\n",
       "    }\n",
       "</style>\n",
       "<table border=\"1\" class=\"dataframe\">\n",
       "  <thead>\n",
       "    <tr style=\"text-align: right;\">\n",
       "      <th></th>\n",
       "      <th>age</th>\n",
       "      <th>workclass</th>\n",
       "      <th>fnlwgt</th>\n",
       "      <th>education</th>\n",
       "      <th>education-num</th>\n",
       "      <th>marital-status</th>\n",
       "      <th>occupation</th>\n",
       "      <th>relationship</th>\n",
       "      <th>race</th>\n",
       "      <th>sex</th>\n",
       "      <th>capital-gain</th>\n",
       "      <th>capital-loss</th>\n",
       "      <th>hours-per-week</th>\n",
       "      <th>native-country</th>\n",
       "      <th>salary</th>\n",
       "    </tr>\n",
       "  </thead>\n",
       "  <tbody>\n",
       "    <tr>\n",
       "      <th>0</th>\n",
       "      <td>39</td>\n",
       "      <td>State-gov</td>\n",
       "      <td>77516</td>\n",
       "      <td>Bachelors</td>\n",
       "      <td>13</td>\n",
       "      <td>Never-married</td>\n",
       "      <td>Adm-clerical</td>\n",
       "      <td>Not-in-family</td>\n",
       "      <td>White</td>\n",
       "      <td>Male</td>\n",
       "      <td>2174</td>\n",
       "      <td>0</td>\n",
       "      <td>40</td>\n",
       "      <td>United-States</td>\n",
       "      <td>&lt;=50K</td>\n",
       "    </tr>\n",
       "    <tr>\n",
       "      <th>1</th>\n",
       "      <td>50</td>\n",
       "      <td>Self-emp-not-inc</td>\n",
       "      <td>83311</td>\n",
       "      <td>Bachelors</td>\n",
       "      <td>13</td>\n",
       "      <td>Married</td>\n",
       "      <td>Exec-managerial</td>\n",
       "      <td>Husband</td>\n",
       "      <td>White</td>\n",
       "      <td>Male</td>\n",
       "      <td>0</td>\n",
       "      <td>0</td>\n",
       "      <td>13</td>\n",
       "      <td>United-States</td>\n",
       "      <td>&lt;=50K</td>\n",
       "    </tr>\n",
       "    <tr>\n",
       "      <th>2</th>\n",
       "      <td>38</td>\n",
       "      <td>Private</td>\n",
       "      <td>215646</td>\n",
       "      <td>HS-grad</td>\n",
       "      <td>9</td>\n",
       "      <td>Divorced</td>\n",
       "      <td>Handlers-cleaners</td>\n",
       "      <td>Not-in-family</td>\n",
       "      <td>White</td>\n",
       "      <td>Male</td>\n",
       "      <td>0</td>\n",
       "      <td>0</td>\n",
       "      <td>40</td>\n",
       "      <td>United-States</td>\n",
       "      <td>&lt;=50K</td>\n",
       "    </tr>\n",
       "    <tr>\n",
       "      <th>3</th>\n",
       "      <td>53</td>\n",
       "      <td>Private</td>\n",
       "      <td>234721</td>\n",
       "      <td>11th</td>\n",
       "      <td>7</td>\n",
       "      <td>Married</td>\n",
       "      <td>Handlers-cleaners</td>\n",
       "      <td>Husband</td>\n",
       "      <td>Black</td>\n",
       "      <td>Male</td>\n",
       "      <td>0</td>\n",
       "      <td>0</td>\n",
       "      <td>40</td>\n",
       "      <td>United-States</td>\n",
       "      <td>&lt;=50K</td>\n",
       "    </tr>\n",
       "    <tr>\n",
       "      <th>4</th>\n",
       "      <td>28</td>\n",
       "      <td>Private</td>\n",
       "      <td>338409</td>\n",
       "      <td>Bachelors</td>\n",
       "      <td>13</td>\n",
       "      <td>Married</td>\n",
       "      <td>Prof-specialty</td>\n",
       "      <td>Wife</td>\n",
       "      <td>Black</td>\n",
       "      <td>Female</td>\n",
       "      <td>0</td>\n",
       "      <td>0</td>\n",
       "      <td>40</td>\n",
       "      <td>Cuba</td>\n",
       "      <td>&lt;=50K</td>\n",
       "    </tr>\n",
       "  </tbody>\n",
       "</table>\n",
       "</div>"
      ],
      "text/plain": [
       "   age         workclass  fnlwgt  education  education-num marital-status  \\\n",
       "0   39         State-gov   77516  Bachelors             13  Never-married   \n",
       "1   50  Self-emp-not-inc   83311  Bachelors             13        Married   \n",
       "2   38           Private  215646    HS-grad              9       Divorced   \n",
       "3   53           Private  234721       11th              7        Married   \n",
       "4   28           Private  338409  Bachelors             13        Married   \n",
       "\n",
       "          occupation   relationship   race     sex  capital-gain  \\\n",
       "0       Adm-clerical  Not-in-family  White    Male          2174   \n",
       "1    Exec-managerial        Husband  White    Male             0   \n",
       "2  Handlers-cleaners  Not-in-family  White    Male             0   \n",
       "3  Handlers-cleaners        Husband  Black    Male             0   \n",
       "4     Prof-specialty           Wife  Black  Female             0   \n",
       "\n",
       "   capital-loss  hours-per-week native-country salary  \n",
       "0             0              40  United-States  <=50K  \n",
       "1             0              13  United-States  <=50K  \n",
       "2             0              40  United-States  <=50K  \n",
       "3             0              40  United-States  <=50K  \n",
       "4             0              40           Cuba  <=50K  "
      ]
     },
     "execution_count": 34,
     "metadata": {},
     "output_type": "execute_result"
    }
   ],
   "source": [
    "data.head()"
   ]
  },
  {
   "cell_type": "code",
   "execution_count": 35,
   "id": "286933f8",
   "metadata": {
    "execution": {
     "iopub.execute_input": "2022-05-03T15:13:18.381108Z",
     "iopub.status.busy": "2022-05-03T15:13:18.380833Z",
     "iopub.status.idle": "2022-05-03T15:13:18.386828Z",
     "shell.execute_reply": "2022-05-03T15:13:18.386079Z"
    },
    "papermill": {
     "duration": 0.062856,
     "end_time": "2022-05-03T15:13:18.388697",
     "exception": false,
     "start_time": "2022-05-03T15:13:18.325841",
     "status": "completed"
    },
    "tags": []
   },
   "outputs": [
    {
     "data": {
      "text/plain": [
       "99"
      ]
     },
     "execution_count": 35,
     "metadata": {},
     "output_type": "execute_result"
    }
   ],
   "source": [
    "data['hours-per-week'].max()"
   ]
  },
  {
   "cell_type": "code",
   "execution_count": 36,
   "id": "bad22863",
   "metadata": {
    "execution": {
     "iopub.execute_input": "2022-05-03T15:13:18.498663Z",
     "iopub.status.busy": "2022-05-03T15:13:18.498150Z",
     "iopub.status.idle": "2022-05-03T15:13:18.503958Z",
     "shell.execute_reply": "2022-05-03T15:13:18.503459Z"
    },
    "papermill": {
     "duration": 0.062831,
     "end_time": "2022-05-03T15:13:18.505623",
     "exception": false,
     "start_time": "2022-05-03T15:13:18.442792",
     "status": "completed"
    },
    "tags": []
   },
   "outputs": [
    {
     "data": {
      "text/plain": [
       "85"
      ]
     },
     "execution_count": 36,
     "metadata": {},
     "output_type": "execute_result"
    }
   ],
   "source": [
    "data['hours-per-week'].value_counts()[99]"
   ]
  },
  {
   "cell_type": "code",
   "execution_count": 37,
   "id": "8d4f0af7",
   "metadata": {
    "execution": {
     "iopub.execute_input": "2022-05-03T15:13:18.617031Z",
     "iopub.status.busy": "2022-05-03T15:13:18.616555Z",
     "iopub.status.idle": "2022-05-03T15:13:18.638216Z",
     "shell.execute_reply": "2022-05-03T15:13:18.637654Z"
    },
    "papermill": {
     "duration": 0.079247,
     "end_time": "2022-05-03T15:13:18.639952",
     "exception": false,
     "start_time": "2022-05-03T15:13:18.560705",
     "status": "completed"
    },
    "tags": []
   },
   "outputs": [
    {
     "data": {
      "text/plain": [
       "25"
      ]
     },
     "execution_count": 37,
     "metadata": {},
     "output_type": "execute_result"
    }
   ],
   "source": [
    "pd.crosstab(data['hours-per-week'],data['salary']).loc[99,'>50K']"
   ]
  },
  {
   "cell_type": "code",
   "execution_count": 38,
   "id": "8f40563c",
   "metadata": {
    "execution": {
     "iopub.execute_input": "2022-05-03T15:13:18.751084Z",
     "iopub.status.busy": "2022-05-03T15:13:18.750636Z",
     "iopub.status.idle": "2022-05-03T15:13:18.774189Z",
     "shell.execute_reply": "2022-05-03T15:13:18.773316Z"
    },
    "papermill": {
     "duration": 0.081362,
     "end_time": "2022-05-03T15:13:18.776179",
     "exception": false,
     "start_time": "2022-05-03T15:13:18.694817",
     "status": "completed"
    },
    "tags": []
   },
   "outputs": [
    {
     "data": {
      "text/plain": [
       "29.41"
      ]
     },
     "execution_count": 38,
     "metadata": {},
     "output_type": "execute_result"
    }
   ],
   "source": [
    "round((pd.crosstab(data['hours-per-week'],data['salary']).loc[99,'>50K'] / data['hours-per-week'].value_counts()[99]) * 100, 2)"
   ]
  },
  {
   "cell_type": "code",
   "execution_count": 39,
   "id": "11558086",
   "metadata": {
    "execution": {
     "iopub.execute_input": "2022-05-03T15:13:18.889551Z",
     "iopub.status.busy": "2022-05-03T15:13:18.889282Z",
     "iopub.status.idle": "2022-05-03T15:13:18.893072Z",
     "shell.execute_reply": "2022-05-03T15:13:18.892236Z"
    },
    "papermill": {
     "duration": 0.062893,
     "end_time": "2022-05-03T15:13:18.894938",
     "exception": false,
     "start_time": "2022-05-03T15:13:18.832045",
     "status": "completed"
    },
    "tags": []
   },
   "outputs": [],
   "source": [
    "# Count the average time of work (hours-per-week) for those who earn a little and a lot (salary) for each country (native-country). What will these be for Japan?"
   ]
  },
  {
   "cell_type": "code",
   "execution_count": 40,
   "id": "5426168e",
   "metadata": {
    "execution": {
     "iopub.execute_input": "2022-05-03T15:13:19.010198Z",
     "iopub.status.busy": "2022-05-03T15:13:19.009404Z",
     "iopub.status.idle": "2022-05-03T15:13:19.018803Z",
     "shell.execute_reply": "2022-05-03T15:13:19.017948Z"
    },
    "papermill": {
     "duration": 0.069192,
     "end_time": "2022-05-03T15:13:19.020859",
     "exception": false,
     "start_time": "2022-05-03T15:13:18.951667",
     "status": "completed"
    },
    "tags": []
   },
   "outputs": [
    {
     "data": {
      "text/plain": [
       "array(['United-States', 'Cuba', 'Jamaica', 'India', '?', 'Mexico',\n",
       "       'South', 'Puerto-Rico', 'Honduras', 'England', 'Canada', 'Germany',\n",
       "       'Iran', 'Philippines', 'Italy', 'Poland', 'Columbia', 'Cambodia',\n",
       "       'Thailand', 'Ecuador', 'Laos', 'Taiwan', 'Haiti', 'Portugal',\n",
       "       'Dominican-Republic', 'El-Salvador', 'France', 'Guatemala',\n",
       "       'China', 'Japan', 'Yugoslavia', 'Peru',\n",
       "       'Outlying-US(Guam-USVI-etc)', 'Scotland', 'Trinadad&Tobago',\n",
       "       'Greece', 'Nicaragua', 'Vietnam', 'Hong', 'Ireland', 'Hungary',\n",
       "       'Holand-Netherlands'], dtype=object)"
      ]
     },
     "execution_count": 40,
     "metadata": {},
     "output_type": "execute_result"
    }
   ],
   "source": [
    "data['native-country'].unique()"
   ]
  },
  {
   "cell_type": "code",
   "execution_count": 41,
   "id": "a2f5db7b",
   "metadata": {
    "execution": {
     "iopub.execute_input": "2022-05-03T15:13:19.134231Z",
     "iopub.status.busy": "2022-05-03T15:13:19.133704Z",
     "iopub.status.idle": "2022-05-03T15:13:19.146022Z",
     "shell.execute_reply": "2022-05-03T15:13:19.145410Z"
    },
    "papermill": {
     "duration": 0.071607,
     "end_time": "2022-05-03T15:13:19.148168",
     "exception": false,
     "start_time": "2022-05-03T15:13:19.076561",
     "status": "completed"
    },
    "tags": []
   },
   "outputs": [],
   "source": [
    "countries_salaries = data.groupby(['native-country', 'salary'])['hours-per-week'].mean()"
   ]
  },
  {
   "cell_type": "code",
   "execution_count": 42,
   "id": "b99d47df",
   "metadata": {
    "execution": {
     "iopub.execute_input": "2022-05-03T15:13:19.261651Z",
     "iopub.status.busy": "2022-05-03T15:13:19.261079Z",
     "iopub.status.idle": "2022-05-03T15:13:19.268643Z",
     "shell.execute_reply": "2022-05-03T15:13:19.267895Z"
    },
    "papermill": {
     "duration": 0.066679,
     "end_time": "2022-05-03T15:13:19.270547",
     "exception": false,
     "start_time": "2022-05-03T15:13:19.203868",
     "status": "completed"
    },
    "tags": []
   },
   "outputs": [
    {
     "data": {
      "text/plain": [
       "salary\n",
       "<=50K    41.000000\n",
       ">50K     47.958333\n",
       "Name: hours-per-week, dtype: float64"
      ]
     },
     "execution_count": 42,
     "metadata": {},
     "output_type": "execute_result"
    }
   ],
   "source": [
    "countries_salaries.loc['Japan']"
   ]
  },
  {
   "cell_type": "code",
   "execution_count": 43,
   "id": "19d7dc93",
   "metadata": {
    "execution": {
     "iopub.execute_input": "2022-05-03T15:13:19.385671Z",
     "iopub.status.busy": "2022-05-03T15:13:19.385164Z",
     "iopub.status.idle": "2022-05-03T15:13:19.434484Z",
     "shell.execute_reply": "2022-05-03T15:13:19.433889Z"
    },
    "papermill": {
     "duration": 0.109335,
     "end_time": "2022-05-03T15:13:19.436257",
     "exception": false,
     "start_time": "2022-05-03T15:13:19.326922",
     "status": "completed"
    },
    "tags": []
   },
   "outputs": [
    {
     "data": {
      "text/html": [
       "<div>\n",
       "<style scoped>\n",
       "    .dataframe tbody tr th:only-of-type {\n",
       "        vertical-align: middle;\n",
       "    }\n",
       "\n",
       "    .dataframe tbody tr th {\n",
       "        vertical-align: top;\n",
       "    }\n",
       "\n",
       "    .dataframe thead th {\n",
       "        text-align: right;\n",
       "    }\n",
       "</style>\n",
       "<table border=\"1\" class=\"dataframe\">\n",
       "  <thead>\n",
       "    <tr style=\"text-align: right;\">\n",
       "      <th>native-country</th>\n",
       "      <th>?</th>\n",
       "      <th>Cambodia</th>\n",
       "      <th>Canada</th>\n",
       "      <th>China</th>\n",
       "      <th>Columbia</th>\n",
       "      <th>Cuba</th>\n",
       "      <th>Dominican-Republic</th>\n",
       "      <th>Ecuador</th>\n",
       "      <th>El-Salvador</th>\n",
       "      <th>England</th>\n",
       "      <th>France</th>\n",
       "      <th>Germany</th>\n",
       "      <th>Greece</th>\n",
       "      <th>Guatemala</th>\n",
       "      <th>Haiti</th>\n",
       "      <th>Holand-Netherlands</th>\n",
       "      <th>Honduras</th>\n",
       "      <th>Hong</th>\n",
       "      <th>Hungary</th>\n",
       "      <th>India</th>\n",
       "      <th>Iran</th>\n",
       "      <th>Ireland</th>\n",
       "      <th>Italy</th>\n",
       "      <th>Jamaica</th>\n",
       "      <th>Japan</th>\n",
       "      <th>Laos</th>\n",
       "      <th>Mexico</th>\n",
       "      <th>Nicaragua</th>\n",
       "      <th>Outlying-US(Guam-USVI-etc)</th>\n",
       "      <th>Peru</th>\n",
       "      <th>Philippines</th>\n",
       "      <th>Poland</th>\n",
       "      <th>Portugal</th>\n",
       "      <th>Puerto-Rico</th>\n",
       "      <th>Scotland</th>\n",
       "      <th>South</th>\n",
       "      <th>Taiwan</th>\n",
       "      <th>Thailand</th>\n",
       "      <th>Trinadad&amp;Tobago</th>\n",
       "      <th>United-States</th>\n",
       "      <th>Vietnam</th>\n",
       "      <th>Yugoslavia</th>\n",
       "    </tr>\n",
       "    <tr>\n",
       "      <th>salary</th>\n",
       "      <th></th>\n",
       "      <th></th>\n",
       "      <th></th>\n",
       "      <th></th>\n",
       "      <th></th>\n",
       "      <th></th>\n",
       "      <th></th>\n",
       "      <th></th>\n",
       "      <th></th>\n",
       "      <th></th>\n",
       "      <th></th>\n",
       "      <th></th>\n",
       "      <th></th>\n",
       "      <th></th>\n",
       "      <th></th>\n",
       "      <th></th>\n",
       "      <th></th>\n",
       "      <th></th>\n",
       "      <th></th>\n",
       "      <th></th>\n",
       "      <th></th>\n",
       "      <th></th>\n",
       "      <th></th>\n",
       "      <th></th>\n",
       "      <th></th>\n",
       "      <th></th>\n",
       "      <th></th>\n",
       "      <th></th>\n",
       "      <th></th>\n",
       "      <th></th>\n",
       "      <th></th>\n",
       "      <th></th>\n",
       "      <th></th>\n",
       "      <th></th>\n",
       "      <th></th>\n",
       "      <th></th>\n",
       "      <th></th>\n",
       "      <th></th>\n",
       "      <th></th>\n",
       "      <th></th>\n",
       "      <th></th>\n",
       "      <th></th>\n",
       "    </tr>\n",
       "  </thead>\n",
       "  <tbody>\n",
       "    <tr>\n",
       "      <th>&lt;=50K</th>\n",
       "      <td>40.164760</td>\n",
       "      <td>41.416667</td>\n",
       "      <td>37.914634</td>\n",
       "      <td>37.381818</td>\n",
       "      <td>38.684211</td>\n",
       "      <td>37.985714</td>\n",
       "      <td>42.338235</td>\n",
       "      <td>38.041667</td>\n",
       "      <td>36.030928</td>\n",
       "      <td>40.483333</td>\n",
       "      <td>41.058824</td>\n",
       "      <td>39.139785</td>\n",
       "      <td>41.809524</td>\n",
       "      <td>39.360656</td>\n",
       "      <td>36.325</td>\n",
       "      <td>40.0</td>\n",
       "      <td>34.333333</td>\n",
       "      <td>39.142857</td>\n",
       "      <td>31.3</td>\n",
       "      <td>38.233333</td>\n",
       "      <td>41.44</td>\n",
       "      <td>40.947368</td>\n",
       "      <td>39.625</td>\n",
       "      <td>38.239437</td>\n",
       "      <td>41.000000</td>\n",
       "      <td>40.375</td>\n",
       "      <td>40.003279</td>\n",
       "      <td>36.09375</td>\n",
       "      <td>41.857143</td>\n",
       "      <td>35.068966</td>\n",
       "      <td>38.065693</td>\n",
       "      <td>38.166667</td>\n",
       "      <td>41.939394</td>\n",
       "      <td>38.470588</td>\n",
       "      <td>39.444444</td>\n",
       "      <td>40.15625</td>\n",
       "      <td>33.774194</td>\n",
       "      <td>42.866667</td>\n",
       "      <td>37.058824</td>\n",
       "      <td>38.799127</td>\n",
       "      <td>37.193548</td>\n",
       "      <td>41.6</td>\n",
       "    </tr>\n",
       "    <tr>\n",
       "      <th>&gt;50K</th>\n",
       "      <td>45.547945</td>\n",
       "      <td>40.000000</td>\n",
       "      <td>45.641026</td>\n",
       "      <td>38.900000</td>\n",
       "      <td>50.000000</td>\n",
       "      <td>42.440000</td>\n",
       "      <td>47.000000</td>\n",
       "      <td>48.750000</td>\n",
       "      <td>45.000000</td>\n",
       "      <td>44.533333</td>\n",
       "      <td>50.750000</td>\n",
       "      <td>44.977273</td>\n",
       "      <td>50.625000</td>\n",
       "      <td>36.666667</td>\n",
       "      <td>42.750</td>\n",
       "      <td>NaN</td>\n",
       "      <td>60.000000</td>\n",
       "      <td>45.000000</td>\n",
       "      <td>50.0</td>\n",
       "      <td>46.475000</td>\n",
       "      <td>47.50</td>\n",
       "      <td>48.000000</td>\n",
       "      <td>45.400</td>\n",
       "      <td>41.100000</td>\n",
       "      <td>47.958333</td>\n",
       "      <td>40.000</td>\n",
       "      <td>46.575758</td>\n",
       "      <td>37.50000</td>\n",
       "      <td>NaN</td>\n",
       "      <td>40.000000</td>\n",
       "      <td>43.032787</td>\n",
       "      <td>39.000000</td>\n",
       "      <td>41.500000</td>\n",
       "      <td>39.416667</td>\n",
       "      <td>46.666667</td>\n",
       "      <td>51.43750</td>\n",
       "      <td>46.800000</td>\n",
       "      <td>58.333333</td>\n",
       "      <td>40.000000</td>\n",
       "      <td>45.505369</td>\n",
       "      <td>39.200000</td>\n",
       "      <td>49.5</td>\n",
       "    </tr>\n",
       "  </tbody>\n",
       "</table>\n",
       "</div>"
      ],
      "text/plain": [
       "native-country          ?   Cambodia     Canada      China   Columbia  \\\n",
       "salary                                                                  \n",
       "<=50K           40.164760  41.416667  37.914634  37.381818  38.684211   \n",
       ">50K            45.547945  40.000000  45.641026  38.900000  50.000000   \n",
       "\n",
       "native-country       Cuba  Dominican-Republic    Ecuador  El-Salvador  \\\n",
       "salary                                                                  \n",
       "<=50K           37.985714           42.338235  38.041667    36.030928   \n",
       ">50K            42.440000           47.000000  48.750000    45.000000   \n",
       "\n",
       "native-country    England     France    Germany     Greece  Guatemala   Haiti  \\\n",
       "salary                                                                          \n",
       "<=50K           40.483333  41.058824  39.139785  41.809524  39.360656  36.325   \n",
       ">50K            44.533333  50.750000  44.977273  50.625000  36.666667  42.750   \n",
       "\n",
       "native-country  Holand-Netherlands   Honduras       Hong  Hungary      India  \\\n",
       "salary                                                                         \n",
       "<=50K                         40.0  34.333333  39.142857     31.3  38.233333   \n",
       ">50K                           NaN  60.000000  45.000000     50.0  46.475000   \n",
       "\n",
       "native-country   Iran    Ireland   Italy    Jamaica      Japan    Laos  \\\n",
       "salary                                                                   \n",
       "<=50K           41.44  40.947368  39.625  38.239437  41.000000  40.375   \n",
       ">50K            47.50  48.000000  45.400  41.100000  47.958333  40.000   \n",
       "\n",
       "native-country     Mexico  Nicaragua  Outlying-US(Guam-USVI-etc)       Peru  \\\n",
       "salary                                                                        \n",
       "<=50K           40.003279   36.09375                   41.857143  35.068966   \n",
       ">50K            46.575758   37.50000                         NaN  40.000000   \n",
       "\n",
       "native-country  Philippines     Poland   Portugal  Puerto-Rico   Scotland  \\\n",
       "salary                                                                      \n",
       "<=50K             38.065693  38.166667  41.939394    38.470588  39.444444   \n",
       ">50K              43.032787  39.000000  41.500000    39.416667  46.666667   \n",
       "\n",
       "native-country     South     Taiwan   Thailand  Trinadad&Tobago  \\\n",
       "salary                                                            \n",
       "<=50K           40.15625  33.774194  42.866667        37.058824   \n",
       ">50K            51.43750  46.800000  58.333333        40.000000   \n",
       "\n",
       "native-country  United-States    Vietnam  Yugoslavia  \n",
       "salary                                                \n",
       "<=50K               38.799127  37.193548        41.6  \n",
       ">50K                45.505369  39.200000        49.5  "
      ]
     },
     "execution_count": 43,
     "metadata": {},
     "output_type": "execute_result"
    }
   ],
   "source": [
    "pd.crosstab(data[\"native-country\"],data[\"salary\"],values=data[\"hours-per-week\"],aggfunc=np.mean).T"
   ]
  },
  {
   "cell_type": "code",
   "execution_count": null,
   "id": "33257fff",
   "metadata": {
    "papermill": {
     "duration": 0.058724,
     "end_time": "2022-05-03T15:13:19.551805",
     "exception": false,
     "start_time": "2022-05-03T15:13:19.493081",
     "status": "completed"
    },
    "tags": []
   },
   "outputs": [],
   "source": []
  }
 ],
 "metadata": {
  "kernelspec": {
   "display_name": "Python 3",
   "language": "python",
   "name": "python3"
  },
  "language_info": {
   "codemirror_mode": {
    "name": "ipython",
    "version": 3
   },
   "file_extension": ".py",
   "mimetype": "text/x-python",
   "name": "python",
   "nbconvert_exporter": "python",
   "pygments_lexer": "ipython3",
   "version": "3.7.12"
  },
  "papermill": {
   "default_parameters": {},
   "duration": 17.457333,
   "end_time": "2022-05-03T15:13:20.329002",
   "environment_variables": {},
   "exception": null,
   "input_path": "__notebook__.ipynb",
   "output_path": "__notebook__.ipynb",
   "parameters": {},
   "start_time": "2022-05-03T15:13:02.871669",
   "version": "2.3.4"
  }
 },
 "nbformat": 4,
 "nbformat_minor": 5
}
